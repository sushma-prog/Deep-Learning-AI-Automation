{
  "nbformat": 4,
  "nbformat_minor": 0,
  "metadata": {
    "colab": {
      "provenance": []
    },
    "kernelspec": {
      "name": "python3",
      "display_name": "Python 3"
    },
    "language_info": {
      "name": "python"
    }
  },
  "cells": [
    {
      "cell_type": "markdown",
      "source": [
        "---\n",
        "\n",
        "## 🔹 **Step 1: What is an RNN (Recurrent Neural Network)?**\n",
        "\n",
        "---\n",
        "\n",
        "### 🧠 First: What type of problems ANN or CNN can’t handle well?\n",
        "\n",
        "Let’s say you want to **analyze the meaning of a sentence** like:\n",
        "\n",
        "> *“The movie was not bad.”*\n",
        "\n",
        "* An **ANN** sees this sentence like a bag of words — it doesn’t care about the **order**.\n",
        "* A **CNN** is good at images but doesn’t really understand **sequence or context**.\n",
        "* So… these models might miss that “not bad” actually means **good**.\n",
        "\n",
        "---\n",
        "\n",
        "### 🤯 Enter **RNN** — Recurrent Neural Network\n",
        "\n",
        "> RNNs are designed to handle **sequential data** — where **order matters**.\n",
        "\n",
        "---\n",
        "\n",
        "### 🎯 **Where RNN is used?**\n",
        "\n",
        "| Use Case                     | What is sequential here?        |\n",
        "| ---------------------------- | ------------------------------- |\n",
        "| Sentiment analysis           | Sequence of words in a sentence |\n",
        "| Stock price prediction       | Sequence of prices over days    |\n",
        "| Time-series weather forecast | Sequence of past temperatures   |\n",
        "| Language translation         | Word-by-word transformation     |\n",
        "| Music generation             | Sequence of musical notes       |\n",
        "\n",
        "---\n",
        "\n",
        "### 🧩 **How does an RNN work internally?**\n",
        "\n",
        "Imagine you're reading a sentence **word-by-word**:\n",
        "\n",
        "> \"The movie was not bad.\"\n",
        "\n",
        "An RNN works like a **memory loop**. It:\n",
        "\n",
        "1. Takes in **one word at a time**.\n",
        "2. **Remembers what it saw before**.\n",
        "3. Uses that memory to **understand the current word better**.\n",
        "\n",
        "---\n",
        "\n",
        "### 🔄 Visual: RNN Unfolded\n",
        "\n",
        "```\n",
        "Input Words ➝ [The] ➝ [movie] ➝ [was] ➝ [not] ➝ [bad]\n",
        "                   ↓       ↓        ↓       ↓       ↓\n",
        "                Hidden   Hidden   Hidden  Hidden  Hidden\n",
        "                State    State    State   State   State\n",
        "```\n",
        "\n",
        "Each step passes **a \"memory\"** to the next — this is called a **hidden state**.\n",
        "\n",
        "So at the end, the model has a **summary** of the sentence that captures meaning from all previous words.\n",
        "\n",
        "---\n",
        "\n",
        "### 💡 Why this is better than Basic feedforward ANN (dense fully coonected)?\n",
        "\n",
        "If you give \"not bad\" to an ANN — it treats “not” and “bad” separately.\n",
        "\n",
        "But an RNN reads it in order → understands the combined effect → predicts *positive* sentiment.\n",
        "\n",
        "---\n",
        "\n",
        "### 🤖 What’s the catch with simple RNNs?\n",
        "\n",
        "* They **forget long sentences** (can’t remember the start by the end).\n",
        "* That’s why we use **LSTM** (Long Short-Term Memory)\n",
        "\n",
        "---"
      ],
      "metadata": {
        "id": "m4-TRQE9YMbr"
      }
    },
    {
      "cell_type": "markdown",
      "source": [
        "---\n",
        "\n",
        "## 🔹 **Step 2: What is LSTM and How It Works**\n",
        "\n",
        "---\n",
        "\n",
        "### 🧠 **1. What is an RNN?**\n",
        "\n",
        "A **Recurrent Neural Network (RNN)** is a type of neural network that:\n",
        "\n",
        "* **Remembers past information** using hidden states 🔁\n",
        "* Is designed for **sequence data**, like:\n",
        "\n",
        "  * Sentences (text)\n",
        "  * Sensor readings (time series)\n",
        "  * Speech/audio\n",
        "\n",
        "Instead of treating each data point independently (like ANN), RNNs pass information **from one step to the next** — so they have **memory**.\n",
        "\n",
        "📦 For example:\n",
        "\n",
        "```\n",
        "Input sequence: [“I”, “love”, “BTS”]\n",
        "RNN reads: I → love → BTS\n",
        "And learns that “BTS” depends on what came before.\n",
        "```\n",
        "\n",
        "---\n",
        "\n",
        "### ❌ **Problem with RNN: Vanishing Gradient**\n",
        "\n",
        "While RNNs *can* learn from sequences, they have trouble remembering **long-term dependencies**. For example:\n",
        "\n",
        "> “I went to Korea last year. The trip was… \\[something about BTS].”\n",
        "\n",
        "Basic RNN forgets earlier parts of the sentence over time. This is called the **vanishing gradient** problem during training.\n",
        "\n",
        "---\n",
        "\n",
        "### ✅ **2. LSTM to the Rescue!**\n",
        "\n",
        "### 🔁 LSTM = Long Short-Term Memory\n",
        "\n",
        "It’s a **special type of RNN** that solves this problem by introducing:\n",
        "\n",
        "* A **Cell State** (long-term memory)\n",
        "* **Gates** that control what to keep/forget\n",
        "\n",
        "🧠 **3 Gates** in an LSTM:\n",
        "\n",
        "| Gate        | Role                         | Analogy                        |\n",
        "| ----------- | ---------------------------- | ------------------------------ |\n",
        "| Forget Gate | Decides what info to discard | \"Forget irrelevant stuff\"      |\n",
        "| Input Gate  | What new info to store       | \"Update memory with new ideas\" |\n",
        "| Output Gate | What to pass to next layer   | \"Say this part out loud\"       |\n",
        "\n",
        "---\n",
        "\n",
        "### 📦 Memory System Inside LSTM\n",
        "\n",
        "Imagine an LSTM like a smart editor with a notepad:\n",
        "\n",
        "* It reads one word at a time\n",
        "* Updates its notebook (memory)\n",
        "* Decides what to remember or throw away\n",
        "* Uses that notebook to make better predictions\n",
        "\n",
        "---\n",
        "\n",
        "### 🧪 What kind of data does LSTM work best on?\n",
        "\n",
        "✅ LSTM is ideal for:\n",
        "\n",
        "* **Sentiment analysis** (predict if movie review is positive or negative)\n",
        "* **Next word prediction**\n",
        "* **Stock prediction**\n",
        "* **Speech generation**\n",
        "* **Music composition**\n",
        "\n",
        "---\n",
        "\n",
        "### 💡 Example: IMDB Movie Sentiment Dataset\n",
        "\n",
        "> Input: “This movie was absolutely amazing and heartwarming...”\n",
        "\n",
        "LSTM can understand the full sentence meaning, **not just words one by one**, because it **remembers context**.\n",
        "\n",
        "---"
      ],
      "metadata": {
        "id": "oZJ0c1iGfFLM"
      }
    },
    {
      "cell_type": "markdown",
      "source": [
        "---\n",
        "\n",
        "## 🔹 **Step 3: Build an LSTM Sentiment Classifier on IMDB Dataset**\n",
        "\n",
        "We’ll:\n",
        "\n",
        "1. Load IMDB dataset\n",
        "2. Preprocess the text data\n",
        "3. Build the model using `Embedding`, `LSTM`, `Dense`\n",
        "4. Compile, train, and evaluate\n",
        "\n",
        "---\n"
      ],
      "metadata": {
        "id": "qKpIE0L9lEDN"
      }
    },
    {
      "cell_type": "markdown",
      "source": [
        "###**📦Load the IMDB dataset**\n",
        "\n",
        "Keras gives you this dataset ready-to-use — already tokenized."
      ],
      "metadata": {
        "id": "0jf1DVSKlOcb"
      }
    },
    {
      "cell_type": "code",
      "source": [
        "from tensorflow.keras.datasets import imdb # importing the IMDB movie review dataset\n",
        "\n",
        "# Load dataset\n",
        "(x_train, y_train), (x_test, y_test) = imdb.load_data(num_words=10000)\n",
        "# imdb.load_data(num_words=10000) ->\tLoad the top 10,000 most common words only (to keep things manageable)\n",
        "# X_train, X_test ->\tEach is a list of reviews, where each review is a sequence of word indexes (integers)\n",
        "# y_train, y_test ->\tLabels: 1 = positive review, 0 = negative review. So instead of:\"This movie is awesome\" You’ll get: [1, 45, 6, 1289]"
      ],
      "metadata": {
        "id": "gooI9g1XlTSb"
      },
      "execution_count": 18,
      "outputs": []
    },
    {
      "cell_type": "markdown",
      "source": [
        "###**📏 Let's now pad the sequences so that all reviews are of equal length.**"
      ],
      "metadata": {
        "id": "c2Vfw4M8nqQL"
      }
    },
    {
      "cell_type": "code",
      "source": [
        "from tensorflow.keras.preprocessing.sequence import pad_sequences\n",
        "\n",
        "x_train = pad_sequences(x_train, maxlen=200)\n",
        "x_test = pad_sequences(x_test, maxlen=200)\n",
        "\n",
        "# pad_sequences(...)\tMakes sure all reviews are exactly 200 words long\n",
        "# maxlen=200\tLonger reviews will be cut; shorter ones will be padded with zeros at the beginning\n",
        "# This ensures the input shape is fixed: (samples, 200)"
      ],
      "metadata": {
        "id": "qykiRDSmnwO9"
      },
      "execution_count": 19,
      "outputs": []
    },
    {
      "cell_type": "markdown",
      "source": [
        "---\n",
        "\n",
        "---\n",
        "\n",
        "##**🔹 Step 4: Build the LSTM Model using Keras**"
      ],
      "metadata": {
        "id": "KE-XUupapeK5"
      }
    },
    {
      "cell_type": "code",
      "source": [
        "from tensorflow.keras.models import Sequential # importing the model-building class Sequential, which lets us stack layers one by one in order\n",
        "from tensorflow.keras.layers import Embedding, LSTM, Dense\n",
        "# Embedding\tTurns word indices (like 42, 102) into real-valued vectors\n",
        "# LSTM\tLearns sequence patterns (like sentiment across word order)\n",
        "# Dense\tFinal output layer (used for binary classification here)\n",
        "\n",
        "model = Sequential() # creating a new empty model — we’ll now start adding layers to it.\n",
        "\n",
        "model.add(Embedding(input_dim=10000, output_dim=32, input_length=200))\n",
        "# input_dim=10000\tSize of vocabulary (we kept only top 10,000 words)\n",
        "# output_dim=32\tEach word is represented as a vector of 32 numbers. this vector of 32 real numbers represent the word's meaning, context, and relationships with other words.\n",
        "# input_length=200\tEach review is exactly 200 words long (padded earlier)\n",
        "# So now your input shape becomes: (200 words per review × 32 values per word) → (200, 32)\n",
        "\n",
        "model.add(LSTM(64))\n",
        "# LSTM(64)\t64 memory units (cells) — it reads sequences and learns context over time\n",
        "# Internally\tIt tracks patterns across time (like \"not good\" = negative) using gates and memory cells\n",
        "# Output of this will be: a 64-dimensional vector representing the meaning of the review.\n",
        "\n",
        "model.add(Dense(1, activation=\"sigmoid\"))\n",
        "# Dense(1) means 1 output neuron because it's a binary classification (positive or negative)\n",
        "# activation='sigmoid'\tConverts the output to a probability between 0 and 1\n",
        "# If output > 0.5 → positive sentiment and If output < 0.5 → negative sentiment"
      ],
      "metadata": {
        "colab": {
          "base_uri": "https://localhost:8080/"
        },
        "id": "aW35iBQ5qwsx",
        "outputId": "aa23b9c8-5218-407f-ba5e-c90ef681a137"
      },
      "execution_count": 20,
      "outputs": [
        {
          "output_type": "stream",
          "name": "stderr",
          "text": [
            "/usr/local/lib/python3.11/dist-packages/keras/src/layers/core/embedding.py:90: UserWarning: Argument `input_length` is deprecated. Just remove it.\n",
            "  warnings.warn(\n"
          ]
        }
      ]
    },
    {
      "cell_type": "markdown",
      "source": [
        "---\n",
        "\n",
        "---\n",
        "\n",
        "##**🔹 Step 5: Compile and Train the Model**"
      ],
      "metadata": {
        "id": "1pPsyoPL13NX"
      }
    },
    {
      "cell_type": "code",
      "source": [
        "model.compile(optimizer=\"adam\", loss=\"binary_crossentropy\", metrics=[\"accuracy\"])\n",
        "# optimizer='adam'\tOptimizer is the algorithm used to adjust the weights. Adam is fast and reliable (combines momentum + RMSProp).\n",
        "# loss='binary_crossentropy'\tSince this is a binary classification task (positive or negative), we use binary crossentropy to calculate the error.\n",
        "# metrics=['accuracy']\tYou want to monitor accuracy while training — it will print that after every epoch.\n",
        "\n",
        "training_log = model.fit(x_train, y_train, epochs=5, batch_size=64, validation_split=0.2)\n",
        "# x_train, y_train\tYour input text (as sequences) and their corresponding labels\n",
        "# epochs=5\tTrain for 5 full passes over the entire dataset\n",
        "# batch_size=64\tUse 64 samples at a time while updating weights\n",
        "# validation_split=0.2\tUse 20% of training data for validation (to see how well it generalizes)\n"
      ],
      "metadata": {
        "colab": {
          "base_uri": "https://localhost:8080/"
        },
        "id": "QWaKvkV_16-M",
        "outputId": "21e23119-0274-4085-f468-2aeee0897b8c"
      },
      "execution_count": 21,
      "outputs": [
        {
          "output_type": "stream",
          "name": "stdout",
          "text": [
            "Epoch 1/5\n",
            "\u001b[1m313/313\u001b[0m \u001b[32m━━━━━━━━━━━━━━━━━━━━\u001b[0m\u001b[37m\u001b[0m \u001b[1m50s\u001b[0m 148ms/step - accuracy: 0.6693 - loss: 0.5854 - val_accuracy: 0.8512 - val_loss: 0.3564\n",
            "Epoch 2/5\n",
            "\u001b[1m313/313\u001b[0m \u001b[32m━━━━━━━━━━━━━━━━━━━━\u001b[0m\u001b[37m\u001b[0m \u001b[1m80s\u001b[0m 143ms/step - accuracy: 0.8919 - loss: 0.2752 - val_accuracy: 0.8672 - val_loss: 0.3160\n",
            "Epoch 3/5\n",
            "\u001b[1m313/313\u001b[0m \u001b[32m━━━━━━━━━━━━━━━━━━━━\u001b[0m\u001b[37m\u001b[0m \u001b[1m83s\u001b[0m 147ms/step - accuracy: 0.9320 - loss: 0.1862 - val_accuracy: 0.8752 - val_loss: 0.3211\n",
            "Epoch 4/5\n",
            "\u001b[1m313/313\u001b[0m \u001b[32m━━━━━━━━━━━━━━━━━━━━\u001b[0m\u001b[37m\u001b[0m \u001b[1m45s\u001b[0m 144ms/step - accuracy: 0.9481 - loss: 0.1507 - val_accuracy: 0.8692 - val_loss: 0.3409\n",
            "Epoch 5/5\n",
            "\u001b[1m313/313\u001b[0m \u001b[32m━━━━━━━━━━━━━━━━━━━━\u001b[0m\u001b[37m\u001b[0m \u001b[1m82s\u001b[0m 144ms/step - accuracy: 0.9603 - loss: 0.1186 - val_accuracy: 0.8652 - val_loss: 0.3562\n"
          ]
        }
      ]
    },
    {
      "cell_type": "markdown",
      "source": [
        "---\n",
        "\n",
        "---\n",
        "\n",
        "##**🔹 Step 6: Evaluate & Predict — the final step of RNN sentiment model where we’ll:**\n",
        "\n",
        "**Evaluate performance on unseen test data**\n",
        "\n",
        "**Make predictions**\n",
        "\n",
        "**Plot the confusion matrix to visually understand performance**\n",
        "\n",
        "---\n",
        "\n",
        "### **✅ Step 6.1: Evaluate on Test Set**"
      ],
      "metadata": {
        "id": "vTkLNk5u-Sca"
      }
    },
    {
      "cell_type": "code",
      "source": [
        "test_loss, test_accuracy = model.evaluate(x_test, y_test) # model.evaluate(...)\tRuns the model on x_test and compares predictions to y_test\n",
        "print(\"Test Loss:\", test_loss) # test_loss\tShows how wrong the model's predictions are (error score)\n",
        "print(\"Test Accuracy:\", test_accuracy) # test_accuracy\tShows how often the model got the sentiment right"
      ],
      "metadata": {
        "colab": {
          "base_uri": "https://localhost:8080/"
        },
        "id": "GlNA706f-krt",
        "outputId": "11159526-8be7-45b9-f5d6-b8c899c1c3e7"
      },
      "execution_count": 22,
      "outputs": [
        {
          "output_type": "stream",
          "name": "stdout",
          "text": [
            "\u001b[1m782/782\u001b[0m \u001b[32m━━━━━━━━━━━━━━━━━━━━\u001b[0m\u001b[37m\u001b[0m \u001b[1m27s\u001b[0m 34ms/step - accuracy: 0.8623 - loss: 0.3823\n",
            "Test Loss: 0.3812171518802643\n",
            "Test Accuracy: 0.85944002866745\n"
          ]
        }
      ]
    },
    {
      "cell_type": "markdown",
      "source": [
        "---\n",
        "\n",
        "---\n",
        "\n",
        "###**✅ Step 6.2: Predict on Test Data**"
      ],
      "metadata": {
        "id": "UYbXuiw8_dup"
      }
    },
    {
      "cell_type": "code",
      "source": [
        "y_pred_probabilities = model.predict(x_test)"
      ],
      "metadata": {
        "colab": {
          "base_uri": "https://localhost:8080/"
        },
        "id": "a1F5k0Gx_nvs",
        "outputId": "e758c6e6-d6bc-442e-d285-993fae578127"
      },
      "execution_count": 23,
      "outputs": [
        {
          "output_type": "stream",
          "name": "stdout",
          "text": [
            "\u001b[1m782/782\u001b[0m \u001b[32m━━━━━━━━━━━━━━━━━━━━\u001b[0m\u001b[37m\u001b[0m \u001b[1m24s\u001b[0m 31ms/step\n"
          ]
        }
      ]
    },
    {
      "cell_type": "code",
      "source": [
        "print(y_pred_probabilities)"
      ],
      "metadata": {
        "colab": {
          "base_uri": "https://localhost:8080/"
        },
        "id": "kR-qvE4_AHwf",
        "outputId": "e17775a8-3173-43f8-abbf-a494a1de1bd9"
      },
      "execution_count": 24,
      "outputs": [
        {
          "output_type": "stream",
          "name": "stdout",
          "text": [
            "[[0.47531787]\n",
            " [0.995968  ]\n",
            " [0.4348608 ]\n",
            " ...\n",
            " [0.01696132]\n",
            " [0.0312759 ]\n",
            " [0.24859013]]\n"
          ]
        }
      ]
    },
    {
      "cell_type": "markdown",
      "source": [
        "This returns probabilities (e.g., 0.73 → likely positive sentiment)\n",
        "\n",
        "We’ll convert it to binary classes (0 or 1) using:"
      ],
      "metadata": {
        "id": "cwSco3A9ECfy"
      }
    },
    {
      "cell_type": "code",
      "source": [
        "import numpy as np\n",
        "y_pred_classes = (y_pred_probabilities > 0.5).astype(\"int32\") # int32 is just standard and efficient. No harm if you used int64, but int32 is enough here.\n",
        "print(y_pred_classes) # now probabilities are converted into binary classes (0 or 1)"
      ],
      "metadata": {
        "colab": {
          "base_uri": "https://localhost:8080/"
        },
        "id": "DRspmCbJBEyV",
        "outputId": "9ce5b5d1-76f7-40c1-f0d9-dea6c14c843d"
      },
      "execution_count": 25,
      "outputs": [
        {
          "output_type": "stream",
          "name": "stdout",
          "text": [
            "[[0]\n",
            " [1]\n",
            " [0]\n",
            " ...\n",
            " [0]\n",
            " [0]\n",
            " [0]]\n"
          ]
        }
      ]
    },
    {
      "cell_type": "markdown",
      "source": [
        "###**✅ Step 6.3: Confusion Matrix**"
      ],
      "metadata": {
        "id": "ydgehZQBEB08"
      }
    },
    {
      "cell_type": "code",
      "source": [
        "from sklearn.metrics import confusion_matrix, ConfusionMatrixDisplay\n",
        "\n",
        "cm = confusion_matrix(y_test, y_pred_classes)\n",
        "disp = ConfusionMatrixDisplay(confusion_matrix=cm, display_labels=[\"Negative\", \"Positive\"])\n",
        "disp.plot()"
      ],
      "metadata": {
        "colab": {
          "base_uri": "https://localhost:8080/",
          "height": 466
        },
        "id": "vKCsvgYME4uW",
        "outputId": "cbbb54ec-6f15-4278-cbc5-2d355330c571"
      },
      "execution_count": 26,
      "outputs": [
        {
          "output_type": "execute_result",
          "data": {
            "text/plain": [
              "<sklearn.metrics._plot.confusion_matrix.ConfusionMatrixDisplay at 0x7b17058cabd0>"
            ]
          },
          "metadata": {},
          "execution_count": 26
        },
        {
          "output_type": "display_data",
          "data": {
            "text/plain": [
              "<Figure size 640x480 with 2 Axes>"
            ],
            "image/png": "[encoded data removed]"
          },
          "metadata": {}
        }
      ]
    },
    {
      "cell_type": "markdown",
      "source": [
        "---\n",
        "1e+04 simply means 10,000 here in the first block.\n",
        "\n",
        "### 🔍 What This Confusion Matrix Tells Us:\n",
        "\n",
        "|                      | **Predicted: Negative** | **Predicted: Positive** |\n",
        "| -------------------- | ----------------------- | ----------------------- |\n",
        "| **Actual: Negative** | ✅ `10000` correct       | ❌ `2087` misclassified  |\n",
        "| **Actual: Positive** | ❌ `1516` misclassified  | ✅ `10984` correct       |\n",
        "\n",
        "---\n",
        "\n",
        "### ✅ Meaning:\n",
        "\n",
        "* **Diagonal cells (yellow)**: Correct predictions — model did well here.\n",
        "* **Off-diagonal cells (purple)**: Mistakes — model confused one sentiment for the other.\n",
        "* **Overall:** The model is classifying reviews quite well. We're seeing strong performance and this plot confirms it visually.\n",
        "\n",
        "---"
      ],
      "metadata": {
        "id": "I6BlTQc1IxoL"
      }
    },
    {
      "cell_type": "code",
      "source": [],
      "metadata": {
        "id": "LYzfrWWsJAFA"
      },
      "execution_count": 26,
      "outputs": []
    }
  ]
}