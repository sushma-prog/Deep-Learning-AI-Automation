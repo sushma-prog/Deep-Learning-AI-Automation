{
 "cells": [
  {
   "cell_type": "markdown",
   "metadata": {
    "id": "j3Qy0qeOBlBn"
   },
   "source": [
    "## 🔹 **Step 1: What is a Convolutional Neural Network (CNN)?**\n",
    "\n",
    "---\n",
    "\n",
    "### ✅ Why Not Use ANN for Images?\n",
    "\n",
    "In a traditional ANN (like we used in the Iris project):\n",
    "\n",
    "* Input is flattened into a **1D array**\n",
    "\n",
    "  * Example: A 28×28 image becomes 784 values in a row\n",
    "* The network **doesn’t understand spatial relationships**\n",
    "\n",
    "  * It sees pixels as individual numbers, not as a picture.\n",
    "\n",
    "This is a problem because:\n",
    "\n",
    "> A nose in the top-left corner shouldn’t be the same as a nose in the middle of the face, right?\n",
    "\n",
    "---\n",
    "\n",
    "### ✅ CNN is Built for Images 🎯\n",
    "\n",
    "**CNN = Convolutional Neural Network**\n",
    "\n",
    "| Traditional ANN                       | CNN                                                        |\n",
    "| ------------------------------------- | ---------------------------------------------------------- |\n",
    "| Works best on structured/tabular data | Works best on **image data**                               |\n",
    "| Input is 1D feature vector            | Input is 2D or 3D image                                    |\n",
    "| No spatial awareness                  | **Understands spatial patterns** (edges, textures, shapes) |\n",
    "\n",
    "---\n",
    "\n",
    "### 🧠 CNN Works in 3 Key Steps:\n",
    "\n",
    "1. **Convolution Layer**\n",
    "\n",
    "   * Applies filters to detect **edges, corners, shapes**.\n",
    "   * Output: A feature map that highlights patterns in the image.\n",
    "\n",
    "2. **Pooling Layer**\n",
    "\n",
    "   * Downsamples the image → makes the computation faster.\n",
    "   * Keeps the **important features** and reduces size.\n",
    "\n",
    "3. **Flatten + Dense Layers**\n",
    "\n",
    "   * Turns feature maps into a 1D vector.\n",
    "   * Feeds that into **fully connected layers** (like ANN) to make predictions.\n",
    "\n",
    "---\n",
    "\n",
    "### 🔍 Simple Visual Analogy:\n",
    "\n",
    "> Think of a CNN like a human eye 👁️\n",
    "\n",
    "* It doesn’t look at all pixels individually.\n",
    "* It focuses on **edges, corners, patterns** to understand what it's seeing.\n",
    "\n",
    "---\n",
    "\n",
    "### ✅ CNNs are used in:\n",
    "\n",
    "* 📷 Image classification (e.g., recognize cats vs dogs)\n",
    "* 🚗 Self-driving cars (detect traffic signs)\n",
    "* 🧠 Medical imaging (detect tumors in scans)\n",
    "* 🛍️ Fashion detection (classify clothes like in Fashion MNIST)\n",
    "\n",
    "---"
   ]
  },
  {
   "cell_type": "markdown",
   "metadata": {
    "id": "8VJgIO9CE7TD"
   },
   "source": [
    "---\n",
    "\n",
    "## 🔹 **Step 2: Key CNN Layers We’ll Use**\n",
    "\n",
    "Each of these layers has a specific job in helping the CNN \"see\" and \"understand\" the image step-by-step.\n",
    "\n",
    "---\n",
    "\n",
    "### 🧩 1. **Conv2D** — *The Feature Detector*\n",
    "\n",
    "**What it does:**\n",
    "\n",
    "Applies **filters** (tiny image scanners) over the input image to find **patterns** like edges, curves, textures.\n",
    "\n",
    "**Analogy:**\n",
    "\n",
    "Imagine sliding a magnifying glass 🔍 across an image to find where a certain shape (like a vertical edge) appears.\n",
    "\n",
    "### 🧩 2. **MaxPooling2D** — *The Downsampler*\n",
    "\n",
    "**What it does:**\n",
    "\n",
    "Shrinks the size of the image by keeping only the most important parts.\n",
    "\n",
    "**Analogy:**\n",
    "\n",
    "Think of looking at a group of 4 pixels (2x2 block) and keeping **only the brightest one** — this reduces size but keeps the strongest signal.\n",
    "\n",
    "### 🧩 3. **Flatten** — *The Image Flattener*\n",
    "\n",
    "**What it does:**\n",
    "\n",
    "Takes the 2D image feature map and **flattens it into a 1D vector** (a line of numbers).\n",
    "\n",
    "**Analogy:**\n",
    "\n",
    "Imagine taking all rows in an image and laying them side-by-side into a single row.\n",
    "\n",
    "* Prepares the data for the **Dense (fully connected) layer**, just like we used in ANN.\n",
    "\n",
    "### 🧩 4. **Dense** — *The Classifier*\n",
    "\n",
    "**What it does:**\n",
    "\n",
    "Final decision-making layer(s) that connects every feature to every possible output.\n",
    "\n",
    "### 🔁 The Full Flow Looks Like:\n",
    "\n",
    "```\n",
    "Input Image (28x28)\n",
    "→ Conv2D\n",
    "→ ReLU\n",
    "→ MaxPooling2D\n",
    "→ Conv2D\n",
    "→ ReLU\n",
    "→ MaxPooling2D\n",
    "→ Flatten\n",
    "→ Dense(hidden)\n",
    "→ Dense(output)\n",
    "```\n",
    "---"
   ]
  },
  {
   "cell_type": "markdown",
   "metadata": {
    "id": "I7_UHh-oJVjU"
   },
   "source": [
    "---\n",
    "\n",
    "## 🔹 **Step 3: Dataset — Fashion MNIST 👗👟🧢**\n",
    "\n",
    "### 🧵 What is Fashion MNIST?\n",
    "\n",
    "It’s a dataset of **clothing item images** designed as a more realistic version of the original MNIST (which had handwritten digits).\n",
    "\n",
    "Fashion MNIST has **black-and-white images** of size `28x28` pixels.\n",
    "\n",
    "| Class Index | Class Name  |\n",
    "| ----------- | ----------- |\n",
    "| 0           | T-shirt/top |\n",
    "| 1           | Trouser     |\n",
    "| 2           | Pullover    |\n",
    "| 3           | Dress       |\n",
    "| 4           | Coat        |\n",
    "| 5           | Sandal      |\n",
    "| 6           | Shirt       |\n",
    "| 7           | Sneaker     |\n",
    "| 8           | Bag         |\n",
    "| 9           | Ankle boot  |\n",
    "\n",
    "---\n"
   ]
  },
  {
   "cell_type": "markdown",
   "metadata": {
    "id": "C1yvfOILOVpD"
   },
   "source": [
    "## **🔹 Step 4**\n",
    "\n",
    "### **✅ Part 1. Load and Preprocess Data (for CNN)**"
   ]
  },
  {
   "cell_type": "code",
   "execution_count": null,
   "metadata": {
    "id": "tQPtMdNWO6AA"
   },
   "outputs": [],
   "source": [
    "from tensorflow.keras.datasets import fashion_mnist # This loads the dataset module for Fashion MNIST. It's already built into TensorFlow.\n",
    "import matplotlib.pyplot as plt\n",
    "import numpy as np"
   ]
  },
  {
   "cell_type": "code",
   "execution_count": null,
   "metadata": {
    "colab": {
     "base_uri": "https://localhost:8080/"
    },
    "id": "DTPzGQPCPUIX",
    "outputId": "ab69c74c-bd3c-45ca-8635-2a46cf183231"
   },
   "outputs": [
    {
     "name": "stdout",
     "output_type": "stream",
     "text": [
      "Downloading data from https://storage.googleapis.com/tensorflow/tf-keras-datasets/train-labels-idx1-ubyte.gz\n",
      "\u001b[1m29515/29515\u001b[0m \u001b[32m━━━━━━━━━━━━━━━━━━━━\u001b[0m\u001b[37m\u001b[0m \u001b[1m0s\u001b[0m 0us/step\n",
      "Downloading data from https://storage.googleapis.com/tensorflow/tf-keras-datasets/train-images-idx3-ubyte.gz\n",
      "\u001b[1m26421880/26421880\u001b[0m \u001b[32m━━━━━━━━━━━━━━━━━━━━\u001b[0m\u001b[37m\u001b[0m \u001b[1m0s\u001b[0m 0us/step\n",
      "Downloading data from https://storage.googleapis.com/tensorflow/tf-keras-datasets/t10k-labels-idx1-ubyte.gz\n",
      "\u001b[1m5148/5148\u001b[0m \u001b[32m━━━━━━━━━━━━━━━━━━━━\u001b[0m\u001b[37m\u001b[0m \u001b[1m0s\u001b[0m 0us/step\n",
      "Downloading data from https://storage.googleapis.com/tensorflow/tf-keras-datasets/t10k-images-idx3-ubyte.gz\n",
      "\u001b[1m4422102/4422102\u001b[0m \u001b[32m━━━━━━━━━━━━━━━━━━━━\u001b[0m\u001b[37m\u001b[0m \u001b[1m0s\u001b[0m 0us/step\n"
     ]
    }
   ],
   "source": [
    "# Load the Data\n",
    "(x_train, y_train), (x_test, y_test) = fashion_mnist.load_data() # it is a dataset that is pre-split into train test part\n",
    "\n",
    "# (x_train, y_train), (x_test, y_test)\n",
    "# → This unpacks the data into 4 parts:\n",
    "# x_train: images for training (60,000 images)\n",
    "# y_train: labels for training (like 0 = T-shirt, 1 = Trouser...)\n",
    "# x_test: images for testing (10,000 images)\n",
    "# y_test: labels for testing"
   ]
  },
  {
   "cell_type": "markdown",
   "metadata": {
    "id": "QLD_b1p6SWes"
   },
   "source": [
    "**🔎Check the shapes of data:**"
   ]
  },
  {
   "cell_type": "code",
   "execution_count": null,
   "metadata": {
    "colab": {
     "base_uri": "https://localhost:8080/"
    },
    "id": "pv2KnHnSSbcU",
    "outputId": "7ee72be1-d8c9-4d8d-b8fa-4051853237c7"
   },
   "outputs": [
    {
     "name": "stdout",
     "output_type": "stream",
     "text": [
      "(60000, 28, 28)\n",
      "(60000,)\n"
     ]
    }
   ],
   "source": [
    "print(x_train.shape) # (60000, 28, 28)\n",
    "print(y_train.shape) # (60000,)"
   ]
  },
  {
   "cell_type": "markdown",
   "metadata": {
    "id": "DDVaUSobSzLh"
   },
   "source": [
    "This means:\n",
    "\n",
    "* You have **60,000 training images**\n",
    "* Each image is **28x28 pixels**\n",
    "* Each label is a number from **0 to 9 for each of those 60,000 training images** "
   ]
  },
  {
   "cell_type": "markdown",
   "metadata": {
    "id": "psq_nk-QTIx1"
   },
   "source": [
    "**🖼 Optional: Show a sample image**"
   ]
  },
  {
   "cell_type": "code",
   "execution_count": null,
   "metadata": {
    "colab": {
     "base_uri": "https://localhost:8080/",
     "height": 452
    },
    "id": "C-4SBGtkTKd3",
    "outputId": "3812ba29-ae01-431d-db75-3ddb671679ef"
   },
   "outputs": [
    {
     "data": {
      "image/png": "[encoded data removed]",
      "text/plain": [
       "<Figure size 640x480 with 1 Axes>"
      ]
     },
     "metadata": {},
     "output_type": "display_data"
    }
   ],
   "source": [
    "plt.imshow(x_train[0], cmap=\"gray\") # imshow(...) → Shows the image and cmap='gray' → Displays it in grayscale\n",
    "plt.title(f\"Label: {y_train[0]}\")\n",
    "plt.show()"
   ]
  },
  {
   "cell_type": "markdown",
   "metadata": {
    "id": "GUO-rZhdX5gg"
   },
   "source": [
    "**🧼 Now: Normalize pixel values**\n",
    "\n",
    "Before feeding images into a CNN, we must **scale the pixel values**."
   ]
  },
  {
   "cell_type": "code",
   "execution_count": null,
   "metadata": {
    "id": "sYl1A89lX8m0"
   },
   "outputs": [],
   "source": [
    "x_train =  x_train / 255.0\n",
    "x_test = x_test / 255.0"
   ]
  },
  {
   "cell_type": "markdown",
   "metadata": {
    "id": "JtyGErqDYpD6"
   },
   "source": [
    "* Original pixel values range from 0 to 255\n",
    "\n",
    "* Dividing by `255.0` scales them to 0 to 1 range — which makes the training faster and more stable."
   ]
  },
  {
   "cell_type": "markdown",
   "metadata": {
    "id": "_dlZiCuzi6jd"
   },
   "source": [
    "**📐 Reshape the data for CNN**"
   ]
  },
  {
   "cell_type": "code",
   "execution_count": null,
   "metadata": {
    "id": "4G1ixuxHYsef"
   },
   "outputs": [],
   "source": [
    "x_train = x_train.reshape(-1, 28, 28, 1)\n",
    "x_test = x_test.reshape(-1, 28, 28, 1)\n",
    "\n",
    "# reshape(...) changes the shape of the array.\n",
    "# -1 → Automatically calculates the number of samples (e.g., 60000)\n",
    "# 28, 28 → Height and width of image\n",
    "# 1 → Number of channels (grayscale)"
   ]
  },
  {
   "cell_type": "markdown",
   "metadata": {
    "id": "iA_Ng-8ghFoO"
   },
   "source": [
    "CNN expects the data in the shape:\n",
    "\n",
    "(num_samples, height, width, channels)\n",
    "\n",
    "Here, the images are grayscale, so channels = 1\n",
    "\n",
    "---\n",
    "\n",
    "### 🧠 **Why Does CNN Expect Data in That Shape?**\n",
    "\n",
    "CNNs (Convolutional Neural Networks) are designed to work with **images**.\n",
    "\n",
    "But images are not just rows of numbers — they have **height**, **width**, and **color channels** (like RGB for color or just one channel for grayscale).\n",
    "\n",
    "So the CNN expects each image in this format:\n",
    "\n",
    "```\n",
    "(num_samples, height, width, channels)\n",
    "```\n",
    "\n",
    "Let’s break that down:\n",
    "\n",
    "| Term          | What It Means                                               |\n",
    "| ------------- | ----------------------------------------------------------- |\n",
    "| `num_samples` | Number of images in the dataset (e.g., 60,000 for training) |\n",
    "| `height`      | Height of each image (28 pixels for Fashion MNIST)          |\n",
    "| `width`       | Width of each image (28 pixels)                             |\n",
    "| `channels`    | How many **color channels** the image has:                  |\n",
    "|               | - `1` for **grayscale** (black-and-white) images            |\n",
    "|               | - `3` for **color** images (Red, Green, Blue → RGB)         |\n",
    "\n",
    "---\n",
    "\n",
    "### 🖼️ **Fashion MNIST Images Are Grayscale**\n",
    "\n",
    "That means:\n",
    "\n",
    "* Each image has **only one channel** (black/white intensity).\n",
    "* No color involved → **channels = 1**\n",
    "\n",
    "So a **single image** would be of shape:\n",
    "\n",
    "```\n",
    "(28, 28, 1)\n",
    "```\n",
    "\n",
    "* 28 rows (height)\n",
    "* 28 columns (width)\n",
    "* 1 grayscale channel\n",
    "\n",
    "---\n",
    "\n",
    "### 🔄 So why `reshape(-1, 28, 28, 1)`?\n",
    "\n",
    "```python\n",
    "X_train = X_train.reshape(-1, 28, 28, 1)\n",
    "```\n",
    "\n",
    "* `-1` means: \"Let NumPy calculate the number of images automatically\"\n",
    "* `28, 28` → the size of each image\n",
    "* `1` → number of channels = 1 (because grayscale)\n",
    "\n",
    "Example:\n",
    "\n",
    "If you have 60,000 training images, it becomes:\n",
    "\n",
    "```\n",
    "(60000, 28, 28, 1)\n",
    "```\n",
    "\n",
    "CNNs **need this format** to understand what each pixel is doing in the height/width space **and** which channel it belongs to.\n",
    "\n",
    "---\n",
    "\n",
    "### ✅ Summary:\n",
    "\n",
    "Fashion MNIST = grayscale → channels = 1\n",
    "\n",
    "So we reshape to **(num\\_samples, 28, 28, 1)** to make it CNN-compatible.\n",
    "\n",
    "---"
   ]
  },
  {
   "cell_type": "markdown",
   "metadata": {
    "id": "4UVFqhKlZuOk"
   },
   "source": [
    "🔁 **One-Hot Encode the Labels**\n",
    "\n",
    "We want to convert labels like `3` into `[0 0 0 1 0 0 0 0 0 0]` for classification since we want to learn to use loss function, categorical_crossentropy. if the labels are into normal numbers then sparce_categorical_crossentropy is used but since we are learning to use loss function categorical_crossentropy, we need to convert the number labels into one hot format since categorical_crossentropy works only on one hot ones."
   ]
  },
  {
   "cell_type": "code",
   "execution_count": null,
   "metadata": {
    "id": "kf8P3nCCZyJU"
   },
   "outputs": [],
   "source": [
    "from tensorflow.keras.utils import to_categorical # to_categorical(...) Converts numeric labels into one-hot encoded format\n",
    "\n",
    "y_train = to_categorical(y_train, 10)\n",
    "y_test = to_categorical(y_test, 10)\n",
    "\n",
    "# to_categorical(...) → Converts numeric labels into one-hot encoded format\n",
    "# Example: 3 → [0 0 0 1 0 0 0 0 0 0]\n",
    "\n",
    "# 10 → Number of classes (0 to 9)"
   ]
  },
  {
   "cell_type": "markdown",
   "metadata": {
    "id": "8TDSQ_SootSR"
   },
   "source": [
    "### **Part 2: Build the CNN Model using Keras**"
   ]
  },
  {
   "cell_type": "code",
   "execution_count": null,
   "metadata": {
    "id": "-5914HeFqtU9"
   },
   "outputs": [],
   "source": [
    "from tensorflow.keras.models import Sequential\n",
    "from tensorflow.keras.layers import Conv2D, MaxPooling2D, Flatten, Dense\n",
    "\n",
    "# Conv2D: Convolutional layer (extracts patterns like edges, shapes)\n",
    "# MaxPooling2D: Downsamples image to reduce size\n",
    "# Flatten: Converts 2D output to 1D (for feeding into Dense layers)\n",
    "# Dense: Fully connected layer (for classification)"
   ]
  },
  {
   "cell_type": "code",
   "execution_count": null,
   "metadata": {
    "colab": {
     "base_uri": "https://localhost:8080/"
    },
    "id": "jZwRpbw3o17-",
    "outputId": "42acab42-36cf-497a-8f7b-2aeed35bd027"
   },
   "outputs": [
    {
     "name": "stderr",
     "output_type": "stream",
     "text": [
      "/usr/local/lib/python3.11/dist-packages/keras/src/layers/convolutional/base_conv.py:107: UserWarning: Do not pass an `input_shape`/`input_dim` argument to a layer. When using Sequential models, prefer using an `Input(shape)` object as the first layer in the model instead.\n",
      "  super().__init__(activity_regularizer=activity_regularizer, **kwargs)\n"
     ]
    }
   ],
   "source": [
    "model = Sequential() # You’re creating an empty CNN model to which you’ll add layers one by one.\n",
    "\n",
    "model.add(Conv2D(32, (3,3), activation=\"relu\", input_shape=(28,28,1)))\n",
    "# 32: Number of filters (output images) — the model will learn 32 different patterns\n",
    "# (3, 3):\tSize of each filter (a 3×3 patch) that moves over the image\n",
    "# So this layer will scan the image with 32 filters of size 3×3 to extract features like edges, curves, etc.\n",
    "\n",
    "model.add(MaxPooling2D(pool_size=(2,2))) # Reduces each 2×2 block to a single value, shrinking the image to half the width and half the height. so, 28x28 image will turn into 14x14.\n",
    "model.add(Flatten()) # from this we get a long list of extracted features (numbers).\n",
    "model.add(Dense(64, activation=\"relu\")) # 64 is a good balance: enough power to learn but not too heavy. This Dense(64, activation='relu') layer learns relationships between features. it Outputs a signal that helps decide what class the image belongs to.\n",
    "model.add(Dense(10, activation=\"softmax\")) # Final output layer: 10 → because Fashion MNIST has 10 classes, softmax → ensures output is a probability distribution over all 10 classes."
   ]
  },
  {
   "cell_type": "markdown",
   "metadata": {
    "id": "1I5h6sj8xa-A"
   },
   "source": [
    "## 🔹 Let’s First Understand: **What Are We Trying to Do?**\n",
    "\n",
    "We’re building a **CNN (Convolutional Neural Network)** that:\n",
    "\n",
    "✅ Takes **28x28 grayscale images** of clothes (Fashion MNIST)\n",
    "\n",
    "✅ Learns **patterns** from the images\n",
    "\n",
    "✅ Predicts which of the **10 classes** the item belongs to (e.g., T-shirt, Shoe)\n",
    "\n",
    "---\n",
    "\n",
    "## ✅ Layer-by-Layer Breakdown of the Code\n",
    "\n",
    "---\n",
    "\n",
    "### 🔸 `model = Sequential()`\n",
    "\n",
    "You're starting with an **empty model**.\n",
    "\n",
    "Sequential means:\n",
    "\n",
    "> Layers will be added **one after another**, in order.\n",
    "\n",
    "---\n",
    "\n",
    "### 🔸 `model.add(Conv2D(32, (3, 3), activation='relu', input_shape=(28, 28, 1)))`\n",
    "\n",
    "### What does Conv2D mean?\n",
    "\n",
    "* Conv2D = **Convolutional Layer** for **2D images**\n",
    "* It learns patterns from the image — like **edges, corners, curves**.\n",
    "\n",
    "#### Now the arguments:\n",
    "\n",
    "| Part                    | Meaning                                                                                                                    |\n",
    "| ----------------------- | -------------------------------------------------------------------------------------------------------------------------- |\n",
    "| `32`                    | Number of filters (think of filters as **pattern detectors**). This layer learns **32 different features** from the image. |\n",
    "| `(3, 3)`                | Size of each filter = 3×3 (like looking at 9 pixels at a time). A small filter is good at detecting **small details**.     |\n",
    "| `activation='relu'`     | Adds **non-linearity**. ReLU = keep only positive values. Helps model learn better.                                        |\n",
    "| `input_shape=(28,28,1)` | Shape of each image: **28 height, 28 width, 1 channel** (because grayscale).                                               |\n",
    "\n",
    "### Why 32 filters and 3×3?\n",
    "\n",
    "* 32 filters is a good starting point — not too small, not too large.\n",
    "* 3x3 filters are **standard** in image tasks — they balance **detail** and **speed**.\n",
    "\n",
    "---\n",
    "\n",
    "### 🔸 `model.add(MaxPooling2D(pool_size=(2, 2)))`\n",
    "\n",
    "Now that we found 32 features using Conv2D…\n",
    "\n",
    "> MaxPooling helps reduce the image size (but keeps most important info).\n",
    "\n",
    "#### pool\\_size=(2, 2) means:\n",
    "\n",
    "Take a **2x2 block of pixels**, and **keep only the maximum value** in that block.\n",
    "\n",
    "This:\n",
    "\n",
    "* ✅ Makes the model faster\n",
    "* ✅ Reduces chance of overfitting\n",
    "* ✅ Keeps only the **strongest signals**\n",
    "\n",
    "---\n",
    "\n",
    "### 🔸 `model.add(Flatten())`\n",
    "\n",
    "After Conv + Pooling, you still have a 2D feature map (like an image).\n",
    "\n",
    "But Dense (fully connected) layers **only accept 1D input**.\n",
    "\n",
    "So Flatten simply does:\n",
    "\n",
    "> “Take everything and put it in **one long line of numbers**.”\n",
    "\n",
    "Example:\n",
    "\n",
    "```\n",
    "From shape: (14, 14, 32)\n",
    "To shape: (6272,)\n",
    "```\n",
    "\n",
    "---\n",
    "\n",
    "### 🔸 `model.add(Dense(64, activation='relu'))`\n",
    "\n",
    "Now you're passing those 6272 features to a **fully connected layer** with:\n",
    "\n",
    "* `64` neurons → means the model will **learn 64 combinations of those features**.\n",
    "* `activation='relu'` → again to add non-linearity\n",
    "\n",
    "This helps the model **combine features** to form patterns like:\n",
    "\n",
    "> “If curve + sleeve + size = maybe it’s a Shirt”\n",
    "\n",
    "### Why 64?\n",
    "\n",
    "* It’s a **good default**: not too small, not too large.\n",
    "* Enough power to learn from the data without being too slow or overfitting.\n",
    "\n",
    "---\n",
    "\n",
    "### 🔸 `model.add(Dense(10, activation='softmax'))`\n",
    "\n",
    "This is your **output layer**:\n",
    "\n",
    "| Part      | Why                                                                                                   |\n",
    "| --------- | ----------------------------------------------------------------------------------------------------- |\n",
    "| `10`      | Because there are **10 classes** in Fashion MNIST                                                     |\n",
    "| `softmax` | Converts output to **probabilities** (between 0 and 1), and **adds up to 1**. Helps in classification |\n",
    "\n",
    "So the model might predict:\n",
    "\n",
    "```python\n",
    "[0.01, 0.01, 0.85, 0.02, 0.03, 0.01, 0.02, 0.01, 0.02, 0.01]\n",
    "```\n",
    "\n",
    "→ The model is **85% sure** that the image belongs to class `2`.\n",
    "\n",
    "---\n",
    "\n",
    "## 🔁 Summary of Each Layer’s Job:\n",
    "\n",
    "| Layer             | What it does                                         |\n",
    "| ----------------- | ---------------------------------------------------- |\n",
    "| `Conv2D(32, 3x3)` | Extracts features from image using 32 small filters  |\n",
    "| `MaxPooling2D`    | Shrinks the image size while keeping strongest parts |\n",
    "| `Flatten`         | Makes the data 1D to go into dense layers            |\n",
    "| `Dense(64)`       | Learns patterns to classify                          |\n",
    "| `Dense(10)`       | Gives probability of each class                      |\n",
    "\n",
    "---\n",
    "\n",
    "## ✅ Final Takeaway\n",
    "\n",
    "Each number (like 32, 3x3, 64, 10) was **carefully chosen** to balance:\n",
    "\n",
    "* Accuracy\n",
    "* Speed\n",
    "* Simplicity\n",
    "* Learning power\n",
    "\n",
    "---\n",
    "\n",
    "### 🏁 By the End:\n",
    "\n",
    "Your model is ready and looks like this:\n",
    "\n",
    "```\n",
    "Input Image (28x28x1)\n",
    "→ Conv2D(3x3, 32 filters)\n",
    "→ MaxPooling(2x2)\n",
    "→ Flatten\n",
    "→ Dense(64)\n",
    "→ Dense(10) + softmax\n",
    "```"
   ]
  },
  {
   "cell_type": "markdown",
   "metadata": {
    "id": "UetHosP64eRW"
   },
   "source": [
    "### **Part 3: Compile and Train the CNN Model**"
   ]
  },
  {
   "cell_type": "code",
   "execution_count": null,
   "metadata": {
    "colab": {
     "base_uri": "https://localhost:8080/"
    },
    "id": "yP903v8-4kNr",
    "outputId": "ae033425-7e3a-4a6f-fd66-72cf52955a00"
   },
   "outputs": [
    {
     "name": "stdout",
     "output_type": "stream",
     "text": [
      "Epoch 1/10\n",
      "\u001b[1m1688/1688\u001b[0m \u001b[32m━━━━━━━━━━━━━━━━━━━━\u001b[0m\u001b[37m\u001b[0m \u001b[1m30s\u001b[0m 17ms/step - accuracy: 0.7972 - loss: 0.5877 - val_accuracy: 0.8828 - val_loss: 0.3157\n",
      "Epoch 2/10\n",
      "\u001b[1m1688/1688\u001b[0m \u001b[32m━━━━━━━━━━━━━━━━━━━━\u001b[0m\u001b[37m\u001b[0m \u001b[1m41s\u001b[0m 17ms/step - accuracy: 0.8923 - loss: 0.3014 - val_accuracy: 0.8982 - val_loss: 0.2860\n",
      "Epoch 3/10\n",
      "\u001b[1m1688/1688\u001b[0m \u001b[32m━━━━━━━━━━━━━━━━━━━━\u001b[0m\u001b[37m\u001b[0m \u001b[1m41s\u001b[0m 17ms/step - accuracy: 0.9108 - loss: 0.2521 - val_accuracy: 0.8925 - val_loss: 0.2879\n",
      "Epoch 4/10\n",
      "\u001b[1m1688/1688\u001b[0m \u001b[32m━━━━━━━━━━━━━━━━━━━━\u001b[0m\u001b[37m\u001b[0m \u001b[1m40s\u001b[0m 17ms/step - accuracy: 0.9190 - loss: 0.2203 - val_accuracy: 0.9067 - val_loss: 0.2614\n",
      "Epoch 5/10\n",
      "\u001b[1m1688/1688\u001b[0m \u001b[32m━━━━━━━━━━━━━━━━━━━━\u001b[0m\u001b[37m\u001b[0m \u001b[1m28s\u001b[0m 17ms/step - accuracy: 0.9276 - loss: 0.1997 - val_accuracy: 0.9005 - val_loss: 0.2818\n",
      "Epoch 6/10\n",
      "\u001b[1m1688/1688\u001b[0m \u001b[32m━━━━━━━━━━━━━━━━━━━━\u001b[0m\u001b[37m\u001b[0m \u001b[1m42s\u001b[0m 17ms/step - accuracy: 0.9378 - loss: 0.1712 - val_accuracy: 0.9122 - val_loss: 0.2531\n",
      "Epoch 7/10\n",
      "\u001b[1m1688/1688\u001b[0m \u001b[32m━━━━━━━━━━━━━━━━━━━━\u001b[0m\u001b[37m\u001b[0m \u001b[1m40s\u001b[0m 17ms/step - accuracy: 0.9447 - loss: 0.1522 - val_accuracy: 0.9153 - val_loss: 0.2634\n",
      "Epoch 8/10\n",
      "\u001b[1m1688/1688\u001b[0m \u001b[32m━━━━━━━━━━━━━━━━━━━━\u001b[0m\u001b[37m\u001b[0m \u001b[1m41s\u001b[0m 17ms/step - accuracy: 0.9515 - loss: 0.1368 - val_accuracy: 0.9133 - val_loss: 0.2791\n",
      "Epoch 9/10\n",
      "\u001b[1m1688/1688\u001b[0m \u001b[32m━━━━━━━━━━━━━━━━━━━━\u001b[0m\u001b[37m\u001b[0m \u001b[1m28s\u001b[0m 16ms/step - accuracy: 0.9592 - loss: 0.1140 - val_accuracy: 0.9162 - val_loss: 0.2787\n",
      "Epoch 10/10\n",
      "\u001b[1m1688/1688\u001b[0m \u001b[32m━━━━━━━━━━━━━━━━━━━━\u001b[0m\u001b[37m\u001b[0m \u001b[1m28s\u001b[0m 16ms/step - accuracy: 0.9645 - loss: 0.1025 - val_accuracy: 0.9118 - val_loss: 0.2940\n"
     ]
    }
   ],
   "source": [
    "model.compile(optimizer=\"adam\", loss=\"categorical_crossentropy\", metrics=[\"accuracy\"]) # categorical_crossentropy: This is the function the model tries to minimize. Since we changed our our target labels from integers (0–9)to one-hot encoded labels, we use categorical_crossentropy. If we didnt chnage our integers (0–9) labels, we'd use sparce_categorical_crossentropy.\n",
    "training_log = model.fit(   #  traning_log is a veriable that stores training info (like accuracy/loss at every epoch). You can name it anything, here we are using training_log.\n",
    "    x_train,  # input features (images)\n",
    "    y_train,  # correct labels (0–9)\n",
    "    epochs=10, # how many times to go over the whole dataset\n",
    "    batch_size=32, # how many samples to look at before updating weights\n",
    "    validation_split=0.1 # reserve 10% of training data to validate performance during training\n",
    "    )"
   ]
  },
  {
   "cell_type": "markdown",
   "metadata": {
    "id": "PTJbpFxlB0Uv"
   },
   "source": [
    "### **Part 4: Visualize Training Results**"
   ]
  },
  {
   "cell_type": "code",
   "execution_count": null,
   "metadata": {
    "colab": {
     "base_uri": "https://localhost:8080/",
     "height": 927
    },
    "id": "YaNMMKXlFZ-n",
    "outputId": "52aab66f-977d-4762-bdc0-9d15b635e7b3"
   },
   "outputs": [
    {
     "data": {
      "image/png": "[encoded data removed]",
      "text/plain": [
       "<Figure size 640x480 with 1 Axes>"
      ]
     },
     "metadata": {},
     "output_type": "display_data"
    },
    {
     "data": {
      "image/png": "[encoded data removed]",
      "text/plain": [
       "<Figure size 640x480 with 1 Axes>"
      ]
     },
     "metadata": {},
     "output_type": "display_data"
    }
   ],
   "source": [
    "import matplotlib.pyplot as plt # lets again import library\n",
    "\n",
    "# Plot training & validation accuracy\n",
    "plt.plot(training_log.history[\"accuracy\"], label=\"Training Accuracy\") # .history is dictionary that contains logs of accuracy/loss from training. 'accuracy':\tThis accesses the training accuracy at each epoch.\n",
    "plt.plot(training_log.history[\"val_accuracy\"], label=\"Validation Accuracy\") # 'val_accuracy'\tThis accesses the validation accuracy (from the 10% of data we set aside using validation_split).\n",
    "plt.title(\"CNN Accuracy over Epochs\")\n",
    "plt.xlabel(\"Epoch\")\n",
    "plt.ylabel(\"Accuracy\")\n",
    "plt.legend()\n",
    "plt.show()\n",
    "\n",
    "# Plot training & validation loss\n",
    "plt.plot(training_log.history[\"loss\"], label=\"Training Loss\")\n",
    "plt.plot(training_log.history[\"val_loss\"], label=\"Validation Loss\")\n",
    "plt.title(\"CNN Loss over Epochs\")\n",
    "plt.xlabel(\"Epoch\")\n",
    "plt.ylabel(\"Loss\")\n",
    "plt.legend()\n",
    "plt.show()\n"
   ]
  },
  {
   "cell_type": "markdown",
   "metadata": {
    "id": "butYqqB6bKBJ"
   },
   "source": [
    "### 🧠 Let’s interpret what you’re seeing:\n",
    "\n",
    "#### 🔷 **Top Graph: CNN Accuracy over Epochs**\n",
    "\n",
    "* **Blue line (Training Accuracy)** steadily increases — that’s great! Your model is learning from the data.\n",
    "* **Orange line (Validation Accuracy)** rises at first and then flattens — that’s **normal**. It means the model is **generalizing well** to unseen data up to a point.\n",
    "\n",
    "> ✅ No major overfitting. Training and validation accuracies are reasonably close.\n",
    "\n",
    "---\n",
    "\n",
    "#### 🔶 **Bottom Graph: CNN Loss over Epochs**\n",
    "\n",
    "* **Blue line (Training Loss)** drops steadily — which means the model is minimizing error on training data.\n",
    "* **Orange line (Validation Loss)** drops at first, then **flattens and slightly increases** — this is a **minor overfitting signal**, but not severe.\n",
    "\n",
    "> 🟡 You can improve this later with:\n",
    ">\n",
    "> * Dropout layers\n",
    "> * Early stopping\n",
    "> * Data augmentation\n",
    "\n",
    "---\n",
    "\n",
    "### ✅ Summary\n",
    "\n",
    "| Aspect                | Status                       |\n",
    "| --------------------- | ---------------------------- |\n",
    "| Model training        | ✅ Successful                 |\n",
    "| Accuracy trends       | ✅ Valid                      |\n",
    "| Overfitting risk      | ⚠️ Slight, but under control |\n",
    "| Visualization quality | ✅ Clear and correct          |\n",
    "\n",
    "---"
   ]
  },
  {
   "cell_type": "markdown",
   "metadata": {
    "id": "hbhtdeR2_zNV"
   },
   "source": [
    "### **Part 5: Evaluate Accuracy and Confusion Matrix**\n",
    "\n",
    "### 📌 First, Evaluate Your Model on Test Data"
   ]
  },
  {
   "cell_type": "code",
   "execution_count": null,
   "metadata": {
    "colab": {
     "base_uri": "https://localhost:8080/"
    },
    "id": "DyMD2-Au_2GQ",
    "outputId": "ef591a0b-c772-41e5-dd6a-773c6a8049b7"
   },
   "outputs": [
    {
     "name": "stdout",
     "output_type": "stream",
     "text": [
      "\u001b[1m313/313\u001b[0m \u001b[32m━━━━━━━━━━━━━━━━━━━━\u001b[0m\u001b[37m\u001b[0m \u001b[1m2s\u001b[0m 5ms/step - accuracy: 0.9094 - loss: 0.3077\n",
      "Test Accuracy: 0.9104999899864197\n"
     ]
    }
   ],
   "source": [
    "test_loss, test_accuracy = model.evaluate(x_test, y_test)\n",
    "print(\"Test Accuracy:\", test_accuracy)"
   ]
  },
  {
   "cell_type": "markdown",
   "metadata": {
    "id": "UUe1l1DvCqWd"
   },
   "source": [
    "### 📌 Then, Get Predictions"
   ]
  },
  {
   "cell_type": "code",
   "execution_count": null,
   "metadata": {
    "colab": {
     "base_uri": "https://localhost:8080/"
    },
    "id": "RoLe24MRCsMd",
    "outputId": "34ff0d29-ce83-4a35-ee83-546bb5533f72"
   },
   "outputs": [
    {
     "name": "stdout",
     "output_type": "stream",
     "text": [
      "\u001b[1m313/313\u001b[0m \u001b[32m━━━━━━━━━━━━━━━━━━━━\u001b[0m\u001b[37m\u001b[0m \u001b[1m1s\u001b[0m 4ms/step\n"
     ]
    }
   ],
   "source": [
    "y_pred_probabilities = model.predict(x_test)"
   ]
  },
  {
   "cell_type": "markdown",
   "metadata": {
    "id": "itQfvkoLDDRd"
   },
   "source": [
    "### ⚠️ Important: Convert Probabilities → Class Labels\n",
    "\n",
    "conver probabilities to class labels from one hot encoded ones"
   ]
  },
  {
   "cell_type": "code",
   "execution_count": null,
   "metadata": {
    "id": "WCyc4oNnDEEG"
   },
   "outputs": [],
   "source": [
    "import numpy as np\n",
    "\n",
    "y_pred_classes = np.argmax(y_pred_probabilities, axis=1)\n",
    "y_true = np.argmax(y_test, axis=1)"
   ]
  },
  {
   "cell_type": "markdown",
   "metadata": {
    "id": "RkXB4Ao5DvuI"
   },
   "source": [
    "### 📌 Now, Plot the Confusion Matrix"
   ]
  },
  {
   "cell_type": "code",
   "execution_count": null,
   "metadata": {
    "colab": {
     "base_uri": "https://localhost:8080/",
     "height": 466
    },
    "id": "RLXRqEGADwiP",
    "outputId": "fe8ec7b4-61a2-48ad-b421-f7e1664533c7"
   },
   "outputs": [
    {
     "data": {
      "text/plain": [
       "<sklearn.metrics._plot.confusion_matrix.ConfusionMatrixDisplay at 0x7a754748d710>"
      ]
     },
     "execution_count": 24,
     "metadata": {},
     "output_type": "execute_result"
    },
    {
     "data": {
      "image/png": "[encoded data removed]",
      "text/plain": [
       "<Figure size 640x480 with 2 Axes>"
      ]
     },
     "metadata": {},
     "output_type": "display_data"
    }
   ],
   "source": [
    "from sklearn.metrics import confusion_matrix, ConfusionMatrixDisplay\n",
    "\n",
    "cm = confusion_matrix(y_true, y_pred_classes)\n",
    "disp = ConfusionMatrixDisplay(confusion_matrix=cm)\n",
    "disp.plot()"
   ]
  },
  {
   "cell_type": "markdown",
   "metadata": {
    "id": "FfDLDSoGQreH"
   },
   "source": [
    "## ✅ **How to Read This Confusion Matrix (Fashion MNIST)**\n",
    "\n",
    "### 📌 **Axes**\n",
    "\n",
    "* **Rows (Y-axis):** True Labels (actual clothing items)\n",
    "* **Columns (X-axis):** Predicted Labels (what your model guessed)\n",
    "* The **diagonal cells** show **correct predictions**.\n",
    "* Off-diagonal cells show **mistakes** (confusions).\n",
    "\n",
    "---\n",
    "\n",
    "## 🔍 **Top-Level Analysis**\n",
    "\n",
    "* **Most of the big numbers are on the diagonal** → That’s *very good*. It means:\n",
    "\n",
    "  > CNN model predicted the correct class **most of the time**.\n",
    "\n",
    "* Some **confusions** do appear, especially:\n",
    "\n",
    "  * Class 0 (T-shirt/top) misclassified as class 6 (Shirt): `154 times`\n",
    "  * Class 6 (Shirt) confused with Class 0, 2, 4, 5 — common due to visual similarity.\n",
    "  * Class 4 (Coat) and Class 2 (Pullover) confused with each other.\n",
    "\n",
    "---\n",
    "\n",
    "## 🧠 **Let’s Pick a Few Rows & Explain**\n",
    "\n",
    "### ▶️ **Row 0: T-shirt/top**\n",
    "\n",
    "* **800 times** predicted correctly as 0 ✅\n",
    "* **154 times** predicted as class 6 ❌ → CNN confused it with **shirt** (understandable).\n",
    "\n",
    "### ▶️ **Row 1: Trouser**\n",
    "\n",
    "* **981 correct** → Excellent performance\n",
    "* Only **minor misclassifications** → Model understands trousers very well ✅\n",
    "\n",
    "### ▶️ **Row 5: Sandal**\n",
    "\n",
    "* **972 correct**\n",
    "* A few confusions with **sneaker (7)** and **ankle boot (9)** — fair enough.\n",
    "\n",
    "### ▶️ **Row 6: Shirt**\n",
    "\n",
    "* Only **805 correct**\n",
    "* A lot of confusion with **T-shirt, pullover, coat** → common in real life too.\n",
    "\n",
    "---\n",
    "\n",
    "## 🎯 **What This Tells**\n",
    "\n",
    "| Insight                                | What it Means                                   |\n",
    "| -------------------------------------- | ----------------------------------------------- |\n",
    "| High diagonal values                   | Model is learning well                          |\n",
    "| Shirt confusion                        | More data or deeper model needed to separate it |\n",
    "| Some classes like Trousers and Sandals | Model nails them almost perfectly               |\n",
    "\n",
    "---\n",
    "---"
   ]
  },
  {
   "cell_type": "markdown",
   "metadata": {
    "id": "cOYLsK0URaML"
   },
   "source": [
    "---\n",
    "---\n",
    "\n",
    "## **Extra:How cnn layes work internally:**\n",
    "\n",
    "### ✅ Step-by-Step: What Happens to a Fashion MNIST Image (e.g., a \"Sandal\" or \"Shirt\")\n",
    "\n",
    "---\n",
    "\n",
    "#### 🧩 **1. Input Image**\n",
    "\n",
    "* You start with **one grayscale image** → shape: `(28 × 28)`\n",
    "* So total pixels = 784 (but CNN treats it as a 2D image)\n",
    "\n",
    "---\n",
    "\n",
    "#### 🎯 **2. Convolutional Layer (Conv2D)**\n",
    "\n",
    "* You apply **32 filters** of size **3×3**\n",
    "* For each image, you get **32 new learned features** (called *feature maps*) showing different patterns (edges, curves, etc.)\n",
    "* The image shrinks to **26×26** because a 3×3 filter can't slide past the edge completely (unless padding is added)\n",
    "\n",
    "🔸 So output shape = `(26, 26, 32)`\n",
    "\n",
    "---\n",
    "\n",
    "#### 🔻 **3. MaxPooling Layer**\n",
    "\n",
    "* You reduce size using **2×2 pooling**, keeping only the max value in each 2×2 block\n",
    "* Output shrinks to **13×13×32**\n",
    "\n",
    "🔸 Shape becomes `(13, 13, 32)` → total **13×13×32 = 5408** numbers\n",
    "\n",
    "---\n",
    "\n",
    "#### 🧠 **4. Flatten**\n",
    "\n",
    "* Convert those 5408 numbers into a flat 1D array:\n",
    "  🔸 Shape: `(5408,)` → This represents all detected features in the image\n",
    "\n",
    "---\n",
    "\n",
    "#### ⚙️ **5. Dense Layer with 64 Neurons**\n",
    "\n",
    "* Each neuron connects to **all 5408 values**\n",
    "* all 5408 values are fed to each of 64 neurons. but in different combinations so there are 64 different combinations for all those 5408 values.\n",
    "* So for 1 image, each neuron does:\n",
    "\n",
    "  ```\n",
    "  Output = ReLU(W1*x1 + W2*x2 + ... + W5408*x5408 + b)\n",
    "  ```\n",
    "* You get **64 outputs** — one from each neuron\n",
    "\n",
    "🔸 Output shape for 1 image: `(64,)`\n",
    "\n",
    "🔸 For batch of 32 images: `(32, 64)`\n",
    "\n",
    "---\n",
    "\n",
    "#### 🎯 **6. Final Dense Layer (10 outputs + softmax)**\n",
    "\n",
    "* This layer maps the **64 features combinations** to **10 class probabilities**\n",
    "  (e.g., is it a shirt, sandal, sneaker, bag…)\n",
    "* Each of the 10 outputs gives a **probability for that class**\n",
    "* The highest value wins!\n",
    "\n",
    "🔸 Output shape: `(10,)` for 1 image\n",
    "\n",
    "🔸 Output shape: `(32, 10)` for a batch of 32 images\n",
    "\n",
    "---\n",
    "\n",
    "### ✅ Final Classification:\n",
    "\n",
    "* For each image, the model says:\n",
    "\n",
    "  > \"This image has a 92% chance of being a **T-shirt**, 3% chance of **Sneaker**, 5% chance of **Pullover**…\"\n",
    "\n",
    "---\n",
    "\n",
    "### 💡 Your line:\n",
    "\n",
    "Those labels (0 to 9) map to **specific clothing classes** like:\n",
    "\n",
    "| Label | Clothing Type |\n",
    "| ----- | ------------- |\n",
    "| 0     | T-shirt/top   |\n",
    "| 1     | Trouser       |\n",
    "| 2     | Pullover      |\n",
    "| 3     | Dress         |\n",
    "| 4     | Coat          |\n",
    "| 5     | Sandal        |\n",
    "| 6     | Shirt         |\n",
    "| 7     | Sneaker       |\n",
    "| 8     | Bag           |\n",
    "| 9     | Ankle boot    |\n",
    "\n",
    "---"
   ]
  },
  {
   "cell_type": "code",
   "execution_count": null,
   "metadata": {
    "id": "PZkZQOoRR8GI"
   },
   "outputs": [],
   "source": []
  }
 ],
 "metadata": {
  "colab": {
   "provenance": []
  },
  "kernelspec": {
   "display_name": "Python 3 (ipykernel)",
   "language": "python",
   "name": "python3"
  },
  "language_info": {
   "codemirror_mode": {
    "name": "ipython",
    "version": 3
   },
   "file_extension": ".py",
   "mimetype": "text/x-python",
   "name": "python",
   "nbconvert_exporter": "python",
   "pygments_lexer": "ipython3",
   "version": "3.12.4"
  }
 },
 "nbformat": 4,
 "nbformat_minor": 4
}
