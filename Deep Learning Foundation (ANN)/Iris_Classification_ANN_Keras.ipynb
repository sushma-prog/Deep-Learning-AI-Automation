{
 "cells": [
  {
   "cell_type": "markdown",
   "id": "554770c7-93a2-4629-add1-1498ed23ce18",
   "metadata": {
    "id": "554770c7-93a2-4629-add1-1498ed23ce18"
   },
   "source": [
    "---\n",
    "\n",
    "## 🔹 **Step 1: Deep Learning vs. Machine Learning**\n",
    "\n",
    "This step helps you understand what makes **Deep Learning** special compared to traditional **Machine Learning** — so you’ll be clear about when and why to use neural networks.\n",
    "\n",
    "---\n",
    "\n",
    "### 🧠 **Theory:**\n",
    "\n",
    "| **Aspect**       | **Machine Learning (ML)**                                      | **Deep Learning (DL)**                                                   |\n",
    "| ---------------- | -------------------------------------------------------------- | ------------------------------------------------------------------------ |\n",
    "| **Input Data**   | Works mostly on **structured/tabular data** (CSV, Excel, etc.) | Works on **both structured and unstructured data** (images, audio, text) |\n",
    "| **Feature Work** | Requires **manual feature engineering**                        | Automatically learns features during training                            |\n",
    "| **Model Types**  | Logistic Regression, Decision Trees, XGBoost, SVM, etc.        | ANN, CNN, RNN, Transformers                                              |\n",
    "| **Scale**        | Works well for **small to medium datasets**                    | Requires **larger data and more computing power**                        |\n",
    "| **Libraries**    | `scikit-learn`, `xgboost`, `lightgbm`                          | `tensorflow`, `keras`, `pytorch`                                         |\n",
    "\n",
    "---\n",
    "\n",
    "### 💡 **Why Deep Learning?**\n",
    "\n",
    "Unlike ML where we manually tell the model what features matter, Deep Learning **learns from raw data** like pixels or text directly. This is **very useful** when we don’t know which features are important or for complex tasks like:\n",
    "\n",
    "* Image classification 👁️\n",
    "\n",
    "* Speech recognition 🎤\n",
    "\n",
    "* Language translation 🌍\n",
    "\n",
    "---\n",
    "\n",
    "### 📌 What You Should Remember:\n",
    "\n",
    "| ✅  | Concept                                    |\n",
    "| -- | ------------------------------------------ |\n",
    "| ✔️ | DL works best on unstructured data         |\n",
    "| ✔️ | ANN is a type of DL model                  |\n",
    "| ✔️ | DL models require more data and compute    |\n",
    "| ✔️ | We use Keras/TensorFlow to build DL models |\n",
    "\n",
    "---"
   ]
  },
  {
   "cell_type": "markdown",
   "id": "4c8f69fc-6510-4aed-bb48-e1d4ba8aa738",
   "metadata": {
    "id": "4c8f69fc-6510-4aed-bb48-e1d4ba8aa738"
   },
   "source": [
    "## 🔹 **Step 2: Understand Neural Network Architecture**\n",
    "\n",
    "An **Artificial Neural Network (ANN)** is inspired by how the human brain works — it consists of **neurons** arranged in **layers**. Each neuron receives input, performs a transformation (usually a weighted sum + activation), and passes the result to the next layer.\n",
    "\n",
    "---\n",
    "\n",
    "### 🧠 **Architecture Breakdown**\n",
    "\n",
    "---\n",
    "\n",
    "### ✅ 1. **Input Layer**\n",
    "\n",
    "This is where your **features** go in.\n",
    "\n",
    "For example, in the Iris dataset:\n",
    "\n",
    "* You have 4 input features: sepal length, sepal width, petal length, petal width\n",
    "\n",
    "* So the **input layer** has **4 neurons**\n",
    "\n",
    "It doesn’t compute anything — it just passes the input to the next layer.\n",
    "\n",
    "---\n",
    "\n",
    "### ✅ 2. **Hidden Layers**\n",
    "\n",
    "These are where **all the learning happens**.\n",
    "\n",
    "Each **neuron** in a hidden layer:\n",
    "\n",
    "* Takes weighted inputs from the previous layer\n",
    "\n",
    "* Applies a **linear function**:\n",
    "\n",
    "  $$\n",
    "  z = w_1x_1 + w_2x_2 + \\dots + w_nx_n + b\n",
    "  $$\n",
    "\n",
    "  where:\n",
    "\n",
    "  * $x_i$ = input features\n",
    "  \n",
    "  * $w_i$ = weights\n",
    "  \n",
    "  * $b$ = bias\n",
    "\n",
    "* Then applies a **non-linear activation function** like:\n",
    "\n",
    "| Activation | Use Case                                               |\n",
    "| ---------- | ------------------------------------------------------ |\n",
    "| `ReLU`     | Most common — fast and helps avoid vanishing gradients |\n",
    "| `Sigmoid`  | Squeezes values between 0 and 1 (for binary tasks)     |\n",
    "| `Tanh`     | Scales between -1 and 1 — older choice                 |\n",
    "\n",
    "🧠 These **activations** allow your network to learn **non-linear patterns**.\n",
    "\n",
    "You can have **1, 2 or many hidden layers** — more layers = deeper network.\n",
    "\n",
    "---\n",
    "\n",
    "### ✅ 3. **Output Layer**\n",
    "\n",
    "This gives the **final prediction**.\n",
    "\n",
    "* **Binary classification (e.g., churn or not):**\n",
    "  \n",
    "  1 neuron + **Sigmoid** activation\n",
    "  \n",
    "  Output between 0 and 1 (probability)\n",
    "\n",
    "* **Multi-class classification (e.g., 3 flower species):**\n",
    "\n",
    "  * 3 neurons (one for each class)\n",
    "  \n",
    "  * Use **Softmax** activation → gives probability for each class\n",
    "\n",
    "---\n",
    "\n",
    "### ✅ 4. **What Happens Internally? (Simple Pipeline)**\n",
    "\n",
    "Let’s say you’re doing binary classification with 4 features:\n",
    "\n",
    "```\n",
    "[4 inputs]\n",
    "     ↓\n",
    "Dense layer (4 → 8 neurons) with ReLU\n",
    "     ↓\n",
    "Dense layer (8 → 4 neurons) with ReLU\n",
    "     ↓\n",
    "Dense layer (4 → 1 neuron) with Sigmoid\n",
    "     ↓\n",
    "Output: 0 or 1 (Churn / No Churn)\n",
    "```\n",
    "\n",
    "---\n",
    "\n",
    "### 📊 **Math Summary:**\n",
    "\n",
    "At every neuron, the following happens:\n",
    "\n",
    "```\n",
    "z = W·X + b\n",
    "\n",
    "a = Activation(z)\n",
    "\n",
    "```\n",
    "\n",
    "Where:\n",
    "\n",
    "* **W** = weight matrix\n",
    "\n",
    "* **X** = input\n",
    "\n",
    "* **b** = bias\n",
    "    \n",
    "* **a** = output of activation function\n",
    "\n",
    "This is called the **forward pass**.\n",
    "\n",
    "During training, we also compute the **error** and update W and b using **backpropagation** (gradient descent) — you’ll understand this more in practice.\n",
    "\n",
    "---\n",
    "\n",
    "### 🎨 **Visual Tool (Highly Recommended)**\n",
    "\n",
    "🟢 Try [https://playground.tensorflow.org](https://playground.tensorflow.org)\n",
    "\n",
    "* Set 1 or 2 hidden layers\n",
    "\n",
    "* Play with ReLU vs Sigmoid\n",
    "\n",
    "* See how **non-linearity changes the output boundary**\n",
    "\n",
    "---\n",
    "\n",
    "### ✅ Summary of What You Just Learned\n",
    "\n",
    "| Term             | Meaning                                    |\n",
    "| ---------------- | ------------------------------------------ |\n",
    "| Input Layer      | Feeds raw features to the model            |\n",
    "| Hidden Layers    | Extract patterns via weights + activation  |\n",
    "| Activation Funcs | Add non-linearity (e.g., ReLU, Sigmoid)    |\n",
    "| Output Layer     | Gives final prediction (class/probability) |\n",
    "| Forward Pass     | Computes prediction from input to output   |\n",
    "| Backpropagation  | Updates weights based on error             |\n",
    "\n",
    "---"
   ]
  },
  {
   "cell_type": "markdown",
   "id": "f1466dec-414d-4463-9540-9d0860824f4d",
   "metadata": {
    "id": "f1466dec-414d-4463-9540-9d0860824f4d"
   },
   "source": [
    "## 🔹 Step 3: **Keras Concepts (ANN Basics)**"
   ]
  },
  {
   "cell_type": "code",
   "execution_count": null,
   "id": "1c15d9e8-da08-47a9-bfcc-a417d7c4efeb",
   "metadata": {
    "id": "1c15d9e8-da08-47a9-bfcc-a417d7c4efeb"
   },
   "outputs": [],
   "source": [
    "from tensorflow.keras.models import Sequential # Sequential is a class inside tensorflow.keras.models submodule that allows us to build a neural network layer by layer.\n",
    "from tensorflow.keras.layers import Dense # Dense is a type of layer where every neuron is connected to every other."
   ]
  },
  {
   "cell_type": "markdown",
   "id": "V2jKH3WN3ft8",
   "metadata": {
    "id": "V2jKH3WN3ft8"
   },
   "source": [
    "🔸 **What does `Sequential` do?**\n",
    "It creates a model where **you stack layers one after the other** — like:\n",
    "\n",
    "```\n",
    "Input ➝ Hidden Layer ➝ Output Layer\n",
    "```\n",
    "\n",
    "No fancy branches, no parallel paths — just **a straight line** (which is what most beginner models need!).\n",
    "\n",
    "---\n",
    "\n",
    "🔸 **What does `Dense` mean in neural networks?**\n",
    "\n",
    "A `Dense` layer is also called a **fully connected layer** — each neuron gets **all the input** from the previous layer.\n",
    "\n",
    "---\n",
    "\n",
    "### 🧠 What Are These Used For?\n",
    "\n",
    "* `Sequential()` → Starts your model.\n",
    "\n",
    "* `Dense(units, activation)` → Adds a layer with a certain number of **neurons** and a **function to activate them** (like `ReLU`, `Sigmoid`, etc.).\n",
    "\n",
    "---\n",
    "\n",
    "✅ So to summarize:\n",
    "\n",
    "| Function / Term | What It Means                                 |\n",
    "| --------------- | --------------------------------------------- |\n",
    "| `Sequential()`  | Starts a simple, layer-by-layer model         |\n",
    "| `Dense()`       | Adds a fully connected layer to the model     |\n",
    "| `compile()`     | Configures model to train (we’ll learn soon!) |\n",
    "| `fit()`         | Starts the training process                   |\n",
    "| `predict()`     | Makes predictions from trained model          |\n",
    "\n",
    "---"
   ]
  },
  {
   "cell_type": "markdown",
   "id": "JFUXao_G83Xr",
   "metadata": {
    "id": "JFUXao_G83Xr"
   },
   "source": [
    "## ✅ **🔹 Step 4: Build Your First ANN (Hands-on)**\n",
    "\n",
    "We’re using the **Iris dataset** — it’s a small, easy-to-understand dataset about **flower species**.\n"
   ]
  },
  {
   "cell_type": "markdown",
   "id": "kDf6e_Ft89oF",
   "metadata": {
    "id": "kDf6e_Ft89oF"
   },
   "source": [
    "### 📦 **First: Import Libraries**"
   ]
  },
  {
   "cell_type": "code",
   "execution_count": 7,
   "id": "orAOf4PR9FLC",
   "metadata": {
    "id": "orAOf4PR9FLC"
   },
   "outputs": [],
   "source": [
    "from sklearn.datasets import load_iris\n",
    "from sklearn.model_selection import train_test_split\n",
    "from sklearn.preprocessing import StandardScaler    # We'll scale/normalize the data to make training easier.\n",
    "from tensorflow.keras.models import Sequential  # Start creating our ANN (step-by-step).\n",
    "from tensorflow.keras.layers import Dense # Add layers (neurons) to the ANN.\n",
    "from tensorflow.keras.utils import to_categorical # Convert output to a one-hot encoded format."
   ]
  },
  {
   "cell_type": "markdown",
   "id": "GS12-67O-hDp",
   "metadata": {
    "id": "GS12-67O-hDp"
   },
   "source": [
    "### 🌸 **1: Load the Data**"
   ]
  },
  {
   "cell_type": "code",
   "execution_count": 8,
   "id": "hDvuNCat-jS0",
   "metadata": {
    "id": "hDvuNCat-jS0"
   },
   "outputs": [],
   "source": [
    "iris = load_iris()\n",
    "x = iris.data\n",
    "y = to_categorical(iris.target)"
   ]
  },
  {
   "cell_type": "markdown",
   "id": "LdohQRur-3kU",
   "metadata": {
    "id": "LdohQRur-3kU"
   },
   "source": [
    "* `y = to_categorical(iris.target)`\n",
    "  \n",
    "  → `iris.target` gives us labels like 0, 1, 2 (the flower species).\n",
    "  \n",
    "  → `to_categorical(...)` converts this into **one-hot vectors** like:\n",
    "\n",
    "```\n",
    "0 → [1, 0, 0]\n",
    "1 → [0, 1, 0]\n",
    "2 → [0, 0, 1]\n",
    "```\n",
    "\n",
    "✅ Why we need this?\n",
    "\n",
    "Because we’re solving a **multi-class classification** problem, not\n",
    "\n",
    "binary — categorical_crossentropy does expect the labels in one-hot encoded format. (but if we use the alternative (sparse_categorical_crossentropy) one-hot isn’t needed so there is no need to convert into one hot format or use to_categorical) here we are learning to use loss function categorical_crossentropy and since that loss function works only on one hot vectors so we will convert labels into one hot ones.\n",
    "\n",
    "---"
   ]
  },
  {
   "cell_type": "markdown",
   "id": "FeuXmgfsADoz",
   "metadata": {
    "id": "FeuXmgfsADoz"
   },
   "source": [
    "### 🌼 **2: Split and Scale**"
   ]
  },
  {
   "cell_type": "code",
   "execution_count": 9,
   "id": "ps4Q5kcKAGMg",
   "metadata": {
    "id": "ps4Q5kcKAGMg"
   },
   "outputs": [],
   "source": [
    "x_train, x_test, y_train, y_test = train_test_split(x, y, test_size=0.2)\n",
    "scaler = StandardScaler()\n",
    "x_train = scaler.fit_transform(x_train)\n",
    "x_test = scaler.transform(x_test)"
   ]
  },
  {
   "cell_type": "markdown",
   "id": "qqWFD5tbA3In",
   "metadata": {
    "id": "qqWFD5tbA3In"
   },
   "source": [
    "* `StandardScaler()`\n",
    "  \n",
    "  → Scales the data so all features have **mean = 0** and **standard deviation = 1**.\n",
    "  \n",
    "  → ANN trains **faster and better** when inputs are scaled properly.\n",
    "\n",
    "* `fit_transform(X_train)`\n",
    "  \n",
    "  → Learns the scaling from training data, then applies it. fit learn scaling from this training data(x_train) and then do transformation on it(i.e apply the scaling you learnt).\n",
    "\n",
    "* `transform(X_test)`\n",
    "  \n",
    "  → Applies the **same scaling** to the test data that's why we only used scaler.transform and not scaler.fit_transform.\n",
    "\n",
    "---"
   ]
  },
  {
   "cell_type": "markdown",
   "id": "yiT_EcWiBtey",
   "metadata": {
    "id": "yiT_EcWiBtey"
   },
   "source": [
    "### 🏗️ **Step 3: Build the ANN Model**"
   ]
  },
  {
   "cell_type": "code",
   "execution_count": 10,
   "id": "y5wRiuXMBt_A",
   "metadata": {
    "colab": {
     "base_uri": "https://localhost:8080/"
    },
    "id": "y5wRiuXMBt_A",
    "outputId": "6b2c78ee-243e-4b07-ec6b-03a02adf5d04"
   },
   "outputs": [
    {
     "name": "stderr",
     "output_type": "stream",
     "text": [
      "/usr/local/lib/python3.11/dist-packages/keras/src/layers/core/dense.py:87: UserWarning: Do not pass an `input_shape`/`input_dim` argument to a layer. When using Sequential models, prefer using an `Input(shape)` object as the first layer in the model instead.\n",
      "  super().__init__(activity_regularizer=activity_regularizer, **kwargs)\n"
     ]
    }
   ],
   "source": [
    "model = Sequential() # Starts an empty ANN.\n",
    "model.add(Dense(8, input_shape=(4,), activation=\"relu\")) # First layer: 8 neurons, each taking 4 inputs (because Iris has 4 features). Uses ReLU as activation.\n",
    "model.add(Dense(3, activation=\"softmax\")) # Output layer: 3 neurons (one for each flower class), uses softmax to give probabilities for each flower class."
   ]
  },
  {
   "cell_type": "markdown",
   "id": "OhEeiMjYCl3c",
   "metadata": {
    "id": "OhEeiMjYCl3c"
   },
   "source": [
    "🧠 Why `softmax`?\n",
    "\n",
    "Because we want to **predict the class with highest probability**, and\n",
    "\n",
    "softmax converts raw scores into a **probability distribution**.\n",
    "\n",
    "softmax gives probabilities for multiple classes. in this example, for each of 3 flower classes.\n",
    "\n",
    "---"
   ]
  },
  {
   "cell_type": "markdown",
   "id": "7HcpvMijCv2w",
   "metadata": {
    "id": "7HcpvMijCv2w"
   },
   "source": [
    "### ⚙️ **4: Compile the Model**"
   ]
  },
  {
   "cell_type": "code",
   "execution_count": 11,
   "id": "YhYh6KdpCxiM",
   "metadata": {
    "id": "YhYh6KdpCxiM"
   },
   "outputs": [],
   "source": [
    "model.compile(optimizer=\"adam\", loss=\"categorical_crossentropy\", metrics=[\"accuracy\"])"
   ]
  },
  {
   "cell_type": "markdown",
   "id": "3kNAu2o8E_Fq",
   "metadata": {
    "id": "3kNAu2o8E_Fq"
   },
   "source": [
    "`optimizer='adam'` : Adam is a powerful optimizer that adjusts weights efficiently.\n",
    "\n",
    "`loss='categorical_crossentropy'` : Used when you have **multi-class one-hot labels**.         \n",
    "\n",
    "`metrics=['accuracy']` : We want to **track how many predictions were correct**.        "
   ]
  },
  {
   "cell_type": "markdown",
   "id": "Jgwpr8ISFbLy",
   "metadata": {
    "id": "Jgwpr8ISFbLy"
   },
   "source": [
    "### 🧪 **5: Train the Model**"
   ]
  },
  {
   "cell_type": "code",
   "execution_count": 13,
   "id": "tstc6ISHFhVE",
   "metadata": {
    "colab": {
     "base_uri": "https://localhost:8080/"
    },
    "id": "tstc6ISHFhVE",
    "outputId": "553d8af0-6faa-41a9-ed1a-2bb547728df0"
   },
   "outputs": [
    {
     "name": "stdout",
     "output_type": "stream",
     "text": [
      "Epoch 1/50\n",
      "\u001b[1m15/15\u001b[0m \u001b[32m━━━━━━━━━━━━━━━━━━━━\u001b[0m\u001b[37m\u001b[0m \u001b[1m1s\u001b[0m 3ms/step - accuracy: 0.5912 - loss: 0.9810\n",
      "Epoch 2/50\n",
      "\u001b[1m15/15\u001b[0m \u001b[32m━━━━━━━━━━━━━━━━━━━━\u001b[0m\u001b[37m\u001b[0m \u001b[1m0s\u001b[0m 3ms/step - accuracy: 0.5834 - loss: 0.8984 \n",
      "Epoch 3/50\n",
      "\u001b[1m15/15\u001b[0m \u001b[32m━━━━━━━━━━━━━━━━━━━━\u001b[0m\u001b[37m\u001b[0m \u001b[1m0s\u001b[0m 3ms/step - accuracy: 0.5856 - loss: 0.9145 \n",
      "Epoch 4/50\n",
      "\u001b[1m15/15\u001b[0m \u001b[32m━━━━━━━━━━━━━━━━━━━━\u001b[0m\u001b[37m\u001b[0m \u001b[1m0s\u001b[0m 3ms/step - accuracy: 0.6026 - loss: 0.8240 \n",
      "Epoch 5/50\n",
      "\u001b[1m15/15\u001b[0m \u001b[32m━━━━━━━━━━━━━━━━━━━━\u001b[0m\u001b[37m\u001b[0m \u001b[1m0s\u001b[0m 3ms/step - accuracy: 0.6013 - loss: 0.7968 \n",
      "Epoch 6/50\n",
      "\u001b[1m15/15\u001b[0m \u001b[32m━━━━━━━━━━━━━━━━━━━━\u001b[0m\u001b[37m\u001b[0m \u001b[1m0s\u001b[0m 3ms/step - accuracy: 0.6911 - loss: 0.6805 \n",
      "Epoch 7/50\n",
      "\u001b[1m15/15\u001b[0m \u001b[32m━━━━━━━━━━━━━━━━━━━━\u001b[0m\u001b[37m\u001b[0m \u001b[1m0s\u001b[0m 4ms/step - accuracy: 0.5816 - loss: 0.7174 \n",
      "Epoch 8/50\n",
      "\u001b[1m15/15\u001b[0m \u001b[32m━━━━━━━━━━━━━━━━━━━━\u001b[0m\u001b[37m\u001b[0m \u001b[1m0s\u001b[0m 4ms/step - accuracy: 0.6585 - loss: 0.7132 \n",
      "Epoch 9/50\n",
      "\u001b[1m15/15\u001b[0m \u001b[32m━━━━━━━━━━━━━━━━━━━━\u001b[0m\u001b[37m\u001b[0m \u001b[1m0s\u001b[0m 3ms/step - accuracy: 0.7206 - loss: 0.6478 \n",
      "Epoch 10/50\n",
      "\u001b[1m15/15\u001b[0m \u001b[32m━━━━━━━━━━━━━━━━━━━━\u001b[0m\u001b[37m\u001b[0m \u001b[1m0s\u001b[0m 3ms/step - accuracy: 0.8206 - loss: 0.6460 \n",
      "Epoch 11/50\n",
      "\u001b[1m15/15\u001b[0m \u001b[32m━━━━━━━━━━━━━━━━━━━━\u001b[0m\u001b[37m\u001b[0m \u001b[1m0s\u001b[0m 3ms/step - accuracy: 0.7859 - loss: 0.5896 \n",
      "Epoch 12/50\n",
      "\u001b[1m15/15\u001b[0m \u001b[32m━━━━━━━━━━━━━━━━━━━━\u001b[0m\u001b[37m\u001b[0m \u001b[1m0s\u001b[0m 3ms/step - accuracy: 0.8587 - loss: 0.6229 \n",
      "Epoch 13/50\n",
      "\u001b[1m15/15\u001b[0m \u001b[32m━━━━━━━━━━━━━━━━━━━━\u001b[0m\u001b[37m\u001b[0m \u001b[1m0s\u001b[0m 3ms/step - accuracy: 0.7868 - loss: 0.5906 \n",
      "Epoch 14/50\n",
      "\u001b[1m15/15\u001b[0m \u001b[32m━━━━━━━━━━━━━━━━━━━━\u001b[0m\u001b[37m\u001b[0m \u001b[1m0s\u001b[0m 3ms/step - accuracy: 0.8577 - loss: 0.4889 \n",
      "Epoch 15/50\n",
      "\u001b[1m15/15\u001b[0m \u001b[32m━━━━━━━━━━━━━━━━━━━━\u001b[0m\u001b[37m\u001b[0m \u001b[1m0s\u001b[0m 4ms/step - accuracy: 0.8332 - loss: 0.4989 \n",
      "Epoch 16/50\n",
      "\u001b[1m15/15\u001b[0m \u001b[32m━━━━━━━━━━━━━━━━━━━━\u001b[0m\u001b[37m\u001b[0m \u001b[1m0s\u001b[0m 3ms/step - accuracy: 0.8500 - loss: 0.4644 \n",
      "Epoch 17/50\n",
      "\u001b[1m15/15\u001b[0m \u001b[32m━━━━━━━━━━━━━━━━━━━━\u001b[0m\u001b[37m\u001b[0m \u001b[1m0s\u001b[0m 4ms/step - accuracy: 0.8101 - loss: 0.5051 \n",
      "Epoch 18/50\n",
      "\u001b[1m15/15\u001b[0m \u001b[32m━━━━━━━━━━━━━━━━━━━━\u001b[0m\u001b[37m\u001b[0m \u001b[1m0s\u001b[0m 3ms/step - accuracy: 0.8502 - loss: 0.4478 \n",
      "Epoch 19/50\n",
      "\u001b[1m15/15\u001b[0m \u001b[32m━━━━━━━━━━━━━━━━━━━━\u001b[0m\u001b[37m\u001b[0m \u001b[1m0s\u001b[0m 3ms/step - accuracy: 0.8674 - loss: 0.4427 \n",
      "Epoch 20/50\n",
      "\u001b[1m15/15\u001b[0m \u001b[32m━━━━━━━━━━━━━━━━━━━━\u001b[0m\u001b[37m\u001b[0m \u001b[1m0s\u001b[0m 3ms/step - accuracy: 0.7767 - loss: 0.4903 \n",
      "Epoch 21/50\n",
      "\u001b[1m15/15\u001b[0m \u001b[32m━━━━━━━━━━━━━━━━━━━━\u001b[0m\u001b[37m\u001b[0m \u001b[1m0s\u001b[0m 3ms/step - accuracy: 0.8711 - loss: 0.4246 \n",
      "Epoch 22/50\n",
      "\u001b[1m15/15\u001b[0m \u001b[32m━━━━━━━━━━━━━━━━━━━━\u001b[0m\u001b[37m\u001b[0m \u001b[1m0s\u001b[0m 3ms/step - accuracy: 0.8719 - loss: 0.4145 \n",
      "Epoch 23/50\n",
      "\u001b[1m15/15\u001b[0m \u001b[32m━━━━━━━━━━━━━━━━━━━━\u001b[0m\u001b[37m\u001b[0m \u001b[1m0s\u001b[0m 3ms/step - accuracy: 0.8548 - loss: 0.3973 \n",
      "Epoch 24/50\n",
      "\u001b[1m15/15\u001b[0m \u001b[32m━━━━━━━━━━━━━━━━━━━━\u001b[0m\u001b[37m\u001b[0m \u001b[1m0s\u001b[0m 4ms/step - accuracy: 0.8458 - loss: 0.4150 \n",
      "Epoch 25/50\n",
      "\u001b[1m15/15\u001b[0m \u001b[32m━━━━━━━━━━━━━━━━━━━━\u001b[0m\u001b[37m\u001b[0m \u001b[1m0s\u001b[0m 3ms/step - accuracy: 0.8542 - loss: 0.3879 \n",
      "Epoch 26/50\n",
      "\u001b[1m15/15\u001b[0m \u001b[32m━━━━━━━━━━━━━━━━━━━━\u001b[0m\u001b[37m\u001b[0m \u001b[1m0s\u001b[0m 3ms/step - accuracy: 0.8719 - loss: 0.3906 \n",
      "Epoch 27/50\n",
      "\u001b[1m15/15\u001b[0m \u001b[32m━━━━━━━━━━━━━━━━━━━━\u001b[0m\u001b[37m\u001b[0m \u001b[1m0s\u001b[0m 3ms/step - accuracy: 0.8270 - loss: 0.3857 \n",
      "Epoch 28/50\n",
      "\u001b[1m15/15\u001b[0m \u001b[32m━━━━━━━━━━━━━━━━━━━━\u001b[0m\u001b[37m\u001b[0m \u001b[1m0s\u001b[0m 3ms/step - accuracy: 0.8484 - loss: 0.3774 \n",
      "Epoch 29/50\n",
      "\u001b[1m15/15\u001b[0m \u001b[32m━━━━━━━━━━━━━━━━━━━━\u001b[0m\u001b[37m\u001b[0m \u001b[1m0s\u001b[0m 3ms/step - accuracy: 0.8725 - loss: 0.3701 \n",
      "Epoch 30/50\n",
      "\u001b[1m15/15\u001b[0m \u001b[32m━━━━━━━━━━━━━━━━━━━━\u001b[0m\u001b[37m\u001b[0m \u001b[1m0s\u001b[0m 3ms/step - accuracy: 0.8548 - loss: 0.3761 \n",
      "Epoch 31/50\n",
      "\u001b[1m15/15\u001b[0m \u001b[32m━━━━━━━━━━━━━━━━━━━━\u001b[0m\u001b[37m\u001b[0m \u001b[1m0s\u001b[0m 3ms/step - accuracy: 0.8982 - loss: 0.3201 \n",
      "Epoch 32/50\n",
      "\u001b[1m15/15\u001b[0m \u001b[32m━━━━━━━━━━━━━━━━━━━━\u001b[0m\u001b[37m\u001b[0m \u001b[1m0s\u001b[0m 3ms/step - accuracy: 0.8747 - loss: 0.3583 \n",
      "Epoch 33/50\n",
      "\u001b[1m15/15\u001b[0m \u001b[32m━━━━━━━━━━━━━━━━━━━━\u001b[0m\u001b[37m\u001b[0m \u001b[1m0s\u001b[0m 3ms/step - accuracy: 0.8858 - loss: 0.3263 \n",
      "Epoch 34/50\n",
      "\u001b[1m15/15\u001b[0m \u001b[32m━━━━━━━━━━━━━━━━━━━━\u001b[0m\u001b[37m\u001b[0m \u001b[1m0s\u001b[0m 4ms/step - accuracy: 0.8508 - loss: 0.3369 \n",
      "Epoch 35/50\n",
      "\u001b[1m15/15\u001b[0m \u001b[32m━━━━━━━━━━━━━━━━━━━━\u001b[0m\u001b[37m\u001b[0m \u001b[1m0s\u001b[0m 3ms/step - accuracy: 0.8674 - loss: 0.3282 \n",
      "Epoch 36/50\n",
      "\u001b[1m15/15\u001b[0m \u001b[32m━━━━━━━━━━━━━━━━━━━━\u001b[0m\u001b[37m\u001b[0m \u001b[1m0s\u001b[0m 3ms/step - accuracy: 0.8720 - loss: 0.3292 \n",
      "Epoch 37/50\n",
      "\u001b[1m15/15\u001b[0m \u001b[32m━━━━━━━━━━━━━━━━━━━━\u001b[0m\u001b[37m\u001b[0m \u001b[1m0s\u001b[0m 3ms/step - accuracy: 0.9029 - loss: 0.3267 \n",
      "Epoch 38/50\n",
      "\u001b[1m15/15\u001b[0m \u001b[32m━━━━━━━━━━━━━━━━━━━━\u001b[0m\u001b[37m\u001b[0m \u001b[1m0s\u001b[0m 3ms/step - accuracy: 0.9057 - loss: 0.2978 \n",
      "Epoch 39/50\n",
      "\u001b[1m15/15\u001b[0m \u001b[32m━━━━━━━━━━━━━━━━━━━━\u001b[0m\u001b[37m\u001b[0m \u001b[1m0s\u001b[0m 3ms/step - accuracy: 0.8961 - loss: 0.3003 \n",
      "Epoch 40/50\n",
      "\u001b[1m15/15\u001b[0m \u001b[32m━━━━━━━━━━━━━━━━━━━━\u001b[0m\u001b[37m\u001b[0m \u001b[1m0s\u001b[0m 4ms/step - accuracy: 0.9244 - loss: 0.2938 \n",
      "Epoch 41/50\n",
      "\u001b[1m15/15\u001b[0m \u001b[32m━━━━━━━━━━━━━━━━━━━━\u001b[0m\u001b[37m\u001b[0m \u001b[1m0s\u001b[0m 4ms/step - accuracy: 0.9096 - loss: 0.2768 \n",
      "Epoch 42/50\n",
      "\u001b[1m15/15\u001b[0m \u001b[32m━━━━━━━━━━━━━━━━━━━━\u001b[0m\u001b[37m\u001b[0m \u001b[1m0s\u001b[0m 4ms/step - accuracy: 0.9089 - loss: 0.2445 \n",
      "Epoch 43/50\n",
      "\u001b[1m15/15\u001b[0m \u001b[32m━━━━━━━━━━━━━━━━━━━━\u001b[0m\u001b[37m\u001b[0m \u001b[1m0s\u001b[0m 3ms/step - accuracy: 0.8738 - loss: 0.2940 \n",
      "Epoch 44/50\n",
      "\u001b[1m15/15\u001b[0m \u001b[32m━━━━━━━━━━━━━━━━━━━━\u001b[0m\u001b[37m\u001b[0m \u001b[1m0s\u001b[0m 3ms/step - accuracy: 0.9022 - loss: 0.2754 \n",
      "Epoch 45/50\n",
      "\u001b[1m15/15\u001b[0m \u001b[32m━━━━━━━━━━━━━━━━━━━━\u001b[0m\u001b[37m\u001b[0m \u001b[1m0s\u001b[0m 3ms/step - accuracy: 0.8627 - loss: 0.3224 \n",
      "Epoch 46/50\n",
      "\u001b[1m15/15\u001b[0m \u001b[32m━━━━━━━━━━━━━━━━━━━━\u001b[0m\u001b[37m\u001b[0m \u001b[1m0s\u001b[0m 3ms/step - accuracy: 0.8786 - loss: 0.3101 \n",
      "Epoch 47/50\n",
      "\u001b[1m15/15\u001b[0m \u001b[32m━━━━━━━━━━━━━━━━━━━━\u001b[0m\u001b[37m\u001b[0m \u001b[1m0s\u001b[0m 3ms/step - accuracy: 0.8544 - loss: 0.3329 \n",
      "Epoch 48/50\n",
      "\u001b[1m15/15\u001b[0m \u001b[32m━━━━━━━━━━━━━━━━━━━━\u001b[0m\u001b[37m\u001b[0m \u001b[1m0s\u001b[0m 3ms/step - accuracy: 0.9404 - loss: 0.2439 \n",
      "Epoch 49/50\n",
      "\u001b[1m15/15\u001b[0m \u001b[32m━━━━━━━━━━━━━━━━━━━━\u001b[0m\u001b[37m\u001b[0m \u001b[1m0s\u001b[0m 3ms/step - accuracy: 0.9179 - loss: 0.2758 \n",
      "Epoch 50/50\n",
      "\u001b[1m15/15\u001b[0m \u001b[32m━━━━━━━━━━━━━━━━━━━━\u001b[0m\u001b[37m\u001b[0m \u001b[1m0s\u001b[0m 4ms/step - accuracy: 0.8985 - loss: 0.2824 \n"
     ]
    },
    {
     "data": {
      "text/plain": [
       "<keras.src.callbacks.history.History at 0x7d2fe67390d0>"
      ]
     },
     "execution_count": 13,
     "metadata": {},
     "output_type": "execute_result"
    }
   ],
   "source": [
    "model.fit(x_train, y_train, epochs=50, batch_size=8)"
   ]
  },
  {
   "cell_type": "markdown",
   "id": "ZUtXNVmKGInB",
   "metadata": {
    "id": "ZUtXNVmKGInB"
   },
   "source": [
    "`fit(...)` : This actually **trains the model** on your data.                \n",
    "\n",
    "`epochs=50` : Go through the full dataset **50 times**.                      \n",
    "\n",
    "`batch_size=8` : Break the data into groups of 8 samples at a time for training.\n",
    "\n",
    "🧠 ANN learns slowly by adjusting weights over multiple **epochs**, improving every time.\n",
    "\n",
    "---"
   ]
  },
  {
   "cell_type": "markdown",
   "id": "XwrIi86oIXZg",
   "metadata": {
    "id": "XwrIi86oIXZg"
   },
   "source": [
    "## ✅ **Step 5: Evaluate Model**\n",
    "\n",
    "### 🎯 **Goal:**\n",
    "\n",
    "After training your model, you must check:\n",
    "\n",
    "1. **How well it performs** on **unseen data** (test set).\n",
    "\n",
    "2. **Which classes it predicts correctly** or struggles with.\n",
    "\n",
    "---\n",
    "\n",
    "### 🧪 **1. Evaluate Model Accuracy on Test Data**"
   ]
  },
  {
   "cell_type": "code",
   "execution_count": 14,
   "id": "yJjjRJbwIY_I",
   "metadata": {
    "colab": {
     "base_uri": "https://localhost:8080/"
    },
    "id": "yJjjRJbwIY_I",
    "outputId": "5c55875a-722c-48cf-a52e-7b29749510c8"
   },
   "outputs": [
    {
     "name": "stdout",
     "output_type": "stream",
     "text": [
      "\u001b[1m1/1\u001b[0m \u001b[32m━━━━━━━━━━━━━━━━━━━━\u001b[0m\u001b[37m\u001b[0m \u001b[1m0s\u001b[0m 234ms/step - accuracy: 0.8000 - loss: 0.3362\n",
      "Test Accuracy: 0.80\n"
     ]
    }
   ],
   "source": [
    "loss, accuracy = model.evaluate(x_test, y_test)\n",
    "print(f\"Test Accuracy: {accuracy:.2f}\")"
   ]
  },
  {
   "cell_type": "markdown",
   "id": "tj98fq7AL29v",
   "metadata": {
    "id": "tj98fq7AL29v"
   },
   "source": [
    "We pass both x_test and y_test to model.evaluate() so that Keras can:\n",
    "\n",
    "Use x_test data to make predictions output on\n",
    "\n",
    "Use y_test the actual outputs to compare with predictions model made on x_test data\n",
    "\n",
    "Return loss and accuracy.                       \n",
    "\n",
    "Loss is the error between predicted output and actual output.\n",
    "\n",
    "\n",
    "* `model.evaluate(x_test, y_test)`\n",
    "\n",
    "  → Tests the model on **unseen (test)** data and gives:\n",
    "\n",
    "  * **loss** = error on the test data\n",
    "\n",
    "  * **accuracy** = how many predictions were correct (as a %)\n",
    "\n",
    "* `f\"Test Accuracy: {accuracy:.2f}\"`\n",
    "\n",
    "  → Prints test accuracy with 2 decimal places.\n",
    "\n",
    "---"
   ]
  },
  {
   "cell_type": "markdown",
   "id": "m66r--MxNhoe",
   "metadata": {
    "id": "m66r--MxNhoe"
   },
   "source": [
    "### 🔍 **2. Make Predictions on Test Data**"
   ]
  },
  {
   "cell_type": "code",
   "execution_count": 16,
   "id": "wmr9OWs1NibE",
   "metadata": {
    "colab": {
     "base_uri": "https://localhost:8080/"
    },
    "id": "wmr9OWs1NibE",
    "outputId": "83577479-200d-4e11-d874-e3f79e1342cd"
   },
   "outputs": [
    {
     "name": "stdout",
     "output_type": "stream",
     "text": [
      "\u001b[1m1/1\u001b[0m \u001b[32m━━━━━━━━━━━━━━━━━━━━\u001b[0m\u001b[37m\u001b[0m \u001b[1m0s\u001b[0m 53ms/step\n",
      "[[9.99154150e-01 8.24242365e-04 2.15986838e-05]\n",
      " [2.58276034e-02 9.11015689e-01 6.31565899e-02]\n",
      " [3.08712237e-02 4.83526319e-01 4.85602498e-01]\n",
      " [2.37635113e-02 5.29634207e-02 9.23273087e-01]\n",
      " [9.97610986e-01 2.27175606e-03 1.17113806e-04]\n",
      " [9.89514768e-01 1.02897771e-02 1.95316665e-04]\n",
      " [9.98985052e-01 9.76447191e-04 3.86082247e-05]\n",
      " [7.49003962e-02 3.34565163e-01 5.90534508e-01]\n",
      " [1.92115083e-02 1.33187503e-01 8.47601056e-01]\n",
      " [4.12306301e-02 1.92708582e-01 7.66060770e-01]\n",
      " [2.49690320e-02 6.18620992e-01 3.56410086e-01]\n",
      " [3.49252075e-02 2.49300823e-01 7.15773821e-01]\n",
      " [1.16756059e-01 6.92148745e-01 1.91095144e-01]\n",
      " [9.35588405e-03 8.76169860e-01 1.14474244e-01]\n",
      " [9.99324739e-01 6.53223775e-04 2.19976409e-05]\n",
      " [4.40230593e-02 3.97967368e-01 5.58009624e-01]\n",
      " [6.24728836e-02 3.12217295e-01 6.25309706e-01]\n",
      " [9.97175455e-01 2.74445373e-03 8.01090864e-05]\n",
      " [9.97827351e-01 2.10516946e-03 6.74740149e-05]\n",
      " [9.65211466e-02 2.81697661e-01 6.21781170e-01]\n",
      " [1.61211994e-02 3.38253453e-02 9.50053394e-01]\n",
      " [3.31515931e-02 8.21682885e-02 8.84680092e-01]\n",
      " [9.98299360e-01 1.64380902e-03 5.67592397e-05]\n",
      " [8.89052525e-02 2.40730405e-01 6.70364499e-01]\n",
      " [7.70667046e-02 2.33059168e-01 6.89874113e-01]\n",
      " [3.79612036e-02 7.04280198e-01 2.57758647e-01]\n",
      " [9.97426689e-01 2.48065148e-03 9.25813438e-05]\n",
      " [6.74545094e-02 6.87718093e-01 2.44827315e-01]\n",
      " [5.15783252e-03 4.25271429e-02 9.52315032e-01]\n",
      " [5.06827012e-02 7.14135647e-01 2.35181674e-01]]\n"
     ]
    }
   ],
   "source": [
    "y_pred = model.predict(x_test)\n",
    "print(y_pred)"
   ]
  },
  {
   "cell_type": "markdown",
   "id": "WIgCmFSdNzji",
   "metadata": {
    "id": "WIgCmFSdNzji"
   },
   "source": [
    "#### ⚠️ Wait! `y_pred` here is **not class labels**, it's probabilities! This gave output like:\n",
    "\n",
    "```\n",
    "[[0.01, 0.94, 0.05],\n",
    " [0.88, 0.08, 0.04],\n",
    " [0.03, 0.01, 0.96]]\n",
    "```\n",
    "\n",
    "So we need to **convert them to actual class labels.** otput should be like this:\n",
    "\n",
    "``[1, 0, 2]\n",
    "``\n",
    "\n",
    "### 🟢 Why do we do this?\n",
    "\n",
    "Because evaluation tools (like confusion matrix, accuracy score) expect **class numbers**, not probability vectors. we will plot confusion matrix for evaluation next for that we will need ouput into class numbers since condusion matrix and accuracy score expects class numbers and not probabilities."
   ]
  },
  {
   "cell_type": "code",
   "execution_count": 18,
   "id": "iipWrXgAOs5D",
   "metadata": {
    "id": "iipWrXgAOs5D"
   },
   "outputs": [],
   "source": [
    "import numpy as np\n",
    "y_pred_classes = np.argmax(y_pred, axis=1) # Tells NumPy: for each row, find the index of the highest value. argmax = find the index of the maximum value. axis=1 = tells it to check each row of y_pred.\n",
    "y_true = np.argmax(y_test, axis=1) # Our true values (y_test) were one-hot encoded too (like [0,1,0]), so we convert them the same way:"
   ]
  },
  {
   "cell_type": "markdown",
   "id": "4ytsl-8DQmhJ",
   "metadata": {
    "id": "4ytsl-8DQmhJ"
   },
   "source": [
    "📌 Why do we need NumPy here?\n",
    "Because `argmax()` — which finds the **index of the largest number** — is a NumPy function.\n",
    "\n",
    "---\n",
    "\n",
    "`y_pred_classes = np.argmax(y_pred, axis=1)`\n",
    "\n",
    "Let’s split it:\n",
    "\n",
    "### 🔹 `y_pred`\n",
    "\n",
    "* This is the model's output — for each test sample, it gives **probabilities** for each class.\n",
    "\n",
    "* Example: `[0.1, 0.7, 0.2]` means 70% confidence for class 1.\n",
    "\n",
    "### 🔹 `np.argmax(y_pred, axis=1)`\n",
    "\n",
    "* `argmax` = find the **index of the maximum value**.\n",
    "\n",
    "* `axis=1` = tells it to check **each row** of `y_pred`.\n",
    "\n",
    "* So this converts:\n",
    "\n",
    "  `[0.1, 0.7, 0.2] → 1`\n",
    "\n",
    "  `[0.9, 0.05, 0.05] → 0`\n",
    "\n",
    "🧠 **Result:** a list of predicted **class numbers** (like `[1, 0, 2, ...]`)\n",
    "\n",
    "### 🔹 `y_pred_classes = ...`This stores the converted predicted class labels (integers) in a new variable called `y_pred_classes`.\n",
    "\n",
    "---\n",
    "\n",
    "## **for `y_true = np.argmax(y_test, axis=1)`**\n",
    "\n",
    "Same logic — but for the **true labels**.\n",
    "\n",
    "* `y_test` is one-hot encoded (looks like `[0, 1, 0]`).\n",
    "* We need to convert it back to class numbers (like `1`) so we can compare.\n",
    "\n",
    "So:\n",
    "\n",
    "```python\n",
    "[1, 0, 0] → 0  \n",
    "[0, 1, 0] → 1  \n",
    "[0, 0, 1] → 2\n",
    "```\n",
    "\n",
    "---"
   ]
  },
  {
   "cell_type": "markdown",
   "id": "OGAgFzqJS1sz",
   "metadata": {
    "id": "OGAgFzqJS1sz"
   },
   "source": [
    "### 🧾 **3. Confusion Matrix**\n",
    "\n",
    "Let’s now see **how well it performed per class** using a confusion matrix:"
   ]
  },
  {
   "cell_type": "code",
   "execution_count": 19,
   "id": "XxzS5cQnS2gM",
   "metadata": {
    "colab": {
     "base_uri": "https://localhost:8080/",
     "height": 472
    },
    "id": "XxzS5cQnS2gM",
    "outputId": "5c287f8e-150e-43e3-9d67-1c3596fc2879"
   },
   "outputs": [
    {
     "data": {
      "text/plain": [
       "<sklearn.metrics._plot.confusion_matrix.ConfusionMatrixDisplay at 0x7d2fe4cc70d0>"
      ]
     },
     "execution_count": 19,
     "metadata": {},
     "output_type": "execute_result"
    },
    {
     "data": {
      "image/png": "[encoded data removed]",
      "text/plain": [
       "<Figure size 640x480 with 2 Axes>"
      ]
     },
     "metadata": {},
     "output_type": "display_data"
    }
   ],
   "source": [
    "from sklearn.metrics import confusion_matrix, ConfusionMatrixDisplay\n",
    "\n",
    "cm = confusion_matrix(y_true, y_pred_classes)\n",
    "disp = ConfusionMatrixDisplay(confusion_matrix=cm)\n",
    "# ConfusionMatrixDisplay(...)\tCreates a graph object based on your matrix.\n",
    "# cm\tThe actual matrix we made in the step above. this need to be passed to parameter name confusion_matrix\n",
    "\n",
    "disp.plot()"
   ]
  },
  {
   "cell_type": "markdown",
   "id": "VjYgBddoWwIv",
   "metadata": {
    "id": "VjYgBddoWwIv"
   },
   "source": [
    "### 🔍 What the Confusion Matrix is Showing:\n",
    "\n",
    "\\| Row = True Label (actual class)\n",
    "\n",
    "\\| Column = Predicted Label (what your model predicted)\n",
    "\n",
    "So for the plot:\n",
    "\n",
    "* **Top-left (9)** = Class `0` was correctly predicted as `0` → ✅ 9 correct predictions\n",
    "\n",
    "* **Middle row**:\n",
    "\n",
    "  * 6 samples of Class `1` were predicted correctly as `1`\n",
    "  * 5 samples of Class `1` were **mistakenly predicted** as `2`\n",
    "\n",
    "* **Bottom row**:\n",
    "\n",
    "  * 9 samples of Class `2` were predicted correctly\n",
    "  * 1 sample was mistakenly predicted as class `1`\n",
    "\n",
    "---\n",
    "\n",
    "### ✅ What’s good here:\n",
    "\n",
    "* Model is **clearly understanding class `0` very well** (perfect prediction! 🎯)\n",
    "\n",
    "* Class `2` is also predicted well\n",
    "\n",
    "* But Class `1` has some **confusion with Class `2`** — this is common in classification problems with similar classes\n",
    "\n",
    "---\n"
   ]
  },
  {
   "cell_type": "code",
   "execution_count": null,
   "id": "Mzj7RpzPXJ09",
   "metadata": {
    "id": "Mzj7RpzPXJ09"
   },
   "outputs": [],
   "source": []
  }
 ],
 "metadata": {
  "colab": {
   "provenance": []
  },
  "kernelspec": {
   "display_name": "Python 3 (ipykernel)",
   "language": "python",
   "name": "python3"
  },
  "language_info": {
   "codemirror_mode": {
    "name": "ipython",
    "version": 3
   },
   "file_extension": ".py",
   "mimetype": "text/x-python",
   "name": "python",
   "nbconvert_exporter": "python",
   "pygments_lexer": "ipython3",
   "version": "3.12.4"
  }
 },
 "nbformat": 4,
 "nbformat_minor": 5
}
